{
 "cells": [
  {
   "cell_type": "code",
   "execution_count": 1,
   "metadata": {},
   "outputs": [
    {
     "name": "stdout",
     "output_type": "stream",
     "text": [
      "Note: you may need to restart the kernel to use updated packages.\n",
      "\n",
      "  ___  ____  ____  ____  ____ ©\n",
      " /__    /   ____/   /   ____/      17.0\n",
      "___/   /   /___/   /   /___/       MP—Parallel Edition\n",
      "\n",
      " Statistics and Data Science       Copyright 1985-2021 StataCorp LLC\n",
      "                                   StataCorp\n",
      "                                   4905 Lakeway Drive\n",
      "                                   College Station, Texas 77845 USA\n",
      "                                   800-STATA-PC        https://www.stata.com\n",
      "                                   979-696-4600        stata@stata.com\n",
      "\n",
      "Stata license: Unlimited-user 4-core network, expiring 31 May 2023\n",
      "Serial number: 501709320052\n",
      "  Licensed to: IFPRI\n",
      "               IFPRI\n",
      "\n",
      "Notes:\n",
      "      1. Unicode is supported; see help unicode_advice.\n",
      "      2. More than 2 billion observations are allowed; see help obs_advice.\n",
      "      3. Maximum number of variables is set to 5,000; see help set_maxvar.\n"
     ]
    }
   ],
   "source": [
    "# suppress warnings\n",
    "%pip install stata_setup --quiet\n",
    "import stata_setup\n",
    "import sys\n",
    "sys.path.append(r'C:/Program Files/Stata17/utilities')\n",
    "from pystata import config\n",
    "config.init('mp')"
   ]
  },
  {
   "cell_type": "code",
   "execution_count": 2,
   "metadata": {},
   "outputs": [],
   "source": [
    "import pandas as pd\n",
    "import datetime"
   ]
  },
  {
   "cell_type": "code",
   "execution_count": 4,
   "metadata": {},
   "outputs": [],
   "source": [
    "# read stata data\n",
    "control = pd.read_stata(r'C:\\Users\\WeilunShi\\Dropbox (IFPRI)\\CML-Ethiopia - team folder\\Operation\\Ready for Submission\\Ready for Submission\\control_Group_Cleaned_V0.dta')\n"
   ]
  },
  {
   "cell_type": "code",
   "execution_count": 5,
   "metadata": {},
   "outputs": [
    {
     "data": {
      "text/plain": [
       "Index(['start_day', 'end_day', 'Interview_start_time', 'Interview_end_time',\n",
       "       'a1', 'a2', 'a3', 'a4', 'phone_no', 'a5', 'a6', 'b1', 'sex', 'age',\n",
       "       'b3', 'b4_1', 'b4_2', 'b4_3', 'b4_4', 'kebele_code', 'b5', 'b6', 'b7',\n",
       "       'b8_2', 'b8_3', 'c1', 'c1_a', 'c1_b', 'c1_c', 'c1_e', 'd10', '_index'],\n",
       "      dtype='object')"
      ]
     },
     "execution_count": 5,
     "metadata": {},
     "output_type": "execute_result"
    }
   ],
   "source": [
    "control.columns"
   ]
  },
  {
   "cell_type": "code",
   "execution_count": 6,
   "metadata": {},
   "outputs": [
    {
     "data": {
      "text/plain": [
       "start_day                 object\n",
       "end_day                   object\n",
       "Interview_start_time      object\n",
       "Interview_end_time        object\n",
       "a1                        object\n",
       "a2                        object\n",
       "a3                          int8\n",
       "a4                       float64\n",
       "phone_no                  object\n",
       "a5                      category\n",
       "a6                      category\n",
       "b1                      category\n",
       "sex                     category\n",
       "age                      float64\n",
       "b3                       float64\n",
       "b4_1                      object\n",
       "b4_2                      object\n",
       "b4_3                      object\n",
       "b4_4                      object\n",
       "kebele_code              float64\n",
       "b5                      category\n",
       "b6                      category\n",
       "b7                      category\n",
       "b8_2                     float64\n",
       "b8_3                    category\n",
       "c1                       float64\n",
       "c1_a                      object\n",
       "c1_b                      object\n",
       "c1_c                      object\n",
       "c1_e                      object\n",
       "d10                       object\n",
       "_index                     int16\n",
       "dtype: object"
      ]
     },
     "execution_count": 6,
     "metadata": {},
     "output_type": "execute_result"
    }
   ],
   "source": [
    "control.dtypes"
   ]
  },
  {
   "attachments": {},
   "cell_type": "markdown",
   "metadata": {},
   "source": [
    "Section: Preliminary results"
   ]
  },
  {
   "cell_type": "code",
   "execution_count": 7,
   "metadata": {},
   "outputs": [
    {
     "name": "stdout",
     "output_type": "stream",
     "text": [
      "a5\n",
      "Yes, the same person                           57.338416\n",
      "No                                             41.344654\n",
      "Yes, another member of the household/friend     1.316929\n",
      "Name: count, dtype: float64\n"
     ]
    }
   ],
   "source": [
    "frequency = pd.Series(control['a5']).value_counts()\n",
    "percentage = (frequency / control['a5'].size) * 100\n",
    "\n",
    "print(percentage)"
   ]
  },
  {
   "attachments": {},
   "cell_type": "markdown",
   "metadata": {},
   "source": [
    "answer rate= 57.34+1.32= 58.66%"
   ]
  },
  {
   "cell_type": "code",
   "execution_count": 8,
   "metadata": {},
   "outputs": [],
   "source": [
    "# filter out the responses that are \"no\"\n",
    "control = control[control['a5'] != 'no']"
   ]
  },
  {
   "attachments": {},
   "cell_type": "markdown",
   "metadata": {},
   "source": [
    "Do you think the area you live is at risk of damages from heavy rainfall?"
   ]
  },
  {
   "cell_type": "code",
   "execution_count": 9,
   "metadata": {},
   "outputs": [
    {
     "name": "stdout",
     "output_type": "stream",
     "text": [
      "b5\n",
      "No     80.706522\n",
      "Yes    19.293478\n",
      "Name: count, dtype: float64\n"
     ]
    }
   ],
   "source": [
    "analysis = control[control['b5'] != '']\n",
    "#filter out blank responses\n",
    "analysis = analysis[analysis['b5'] != ' ']\n",
    "#filter out NaN\n",
    "analysis = analysis[analysis['b5'].notna()]\n",
    "frequency = pd.Series(analysis['b5']).value_counts()\n",
    "percentage = (frequency / analysis['b5'].size) * 100\n",
    "print(percentage)"
   ]
  },
  {
   "attachments": {},
   "cell_type": "markdown",
   "metadata": {},
   "source": [
    "Were you affected by the recent heavy rain/flood (Date?) in your area?"
   ]
  },
  {
   "cell_type": "code",
   "execution_count": 10,
   "metadata": {},
   "outputs": [
    {
     "name": "stdout",
     "output_type": "stream",
     "text": [
      "b6\n",
      "No     84.646739\n",
      "Yes    15.353261\n",
      "Name: count, dtype: float64\n"
     ]
    }
   ],
   "source": [
    "analysis = control[control['b6'] != '']\n",
    "#filter out blank responses\n",
    "analysis = analysis[analysis['b6'] != ' ']\n",
    "#filter out NaN\n",
    "analysis = analysis[analysis['b6'].notna()]\n",
    "frequency = pd.Series(analysis['b6']).value_counts()\n",
    "percentage = (frequency / analysis['b6'].size) * 100\n",
    "print(percentage)"
   ]
  },
  {
   "attachments": {},
   "cell_type": "markdown",
   "metadata": {},
   "source": [
    "Have you or your family suffered losses from flood/landslide/excessive rainfall in the past 3 years?"
   ]
  },
  {
   "cell_type": "code",
   "execution_count": 11,
   "metadata": {},
   "outputs": [
    {
     "name": "stdout",
     "output_type": "stream",
     "text": [
      "b7\n",
      "No     85.733696\n",
      "Yes    14.266304\n",
      "Name: count, dtype: float64\n"
     ]
    }
   ],
   "source": [
    "analysis = control[control['b7'] != '']\n",
    "#filter out blank responses\n",
    "analysis = analysis[analysis['b7'] != ' ']\n",
    "#filter out NaN\n",
    "analysis = analysis[analysis['b7'].notna()]\n",
    "frequency = pd.Series(analysis['b7']).value_counts()\n",
    "percentage = (frequency / analysis['b7'].size) * 100\n",
    "print(percentage)"
   ]
  },
  {
   "attachments": {},
   "cell_type": "markdown",
   "metadata": {},
   "source": [
    "Were you affected by the recent heavy rain/flood (Date?) in your area?"
   ]
  },
  {
   "attachments": {},
   "cell_type": "markdown",
   "metadata": {},
   "source": [
    "This question is not valid."
   ]
  },
  {
   "cell_type": "code",
   "execution_count": 12,
   "metadata": {},
   "outputs": [
    {
     "ename": "KeyError",
     "evalue": "'b8_1'",
     "output_type": "error",
     "traceback": [
      "\u001b[1;31m---------------------------------------------------------------------------\u001b[0m",
      "\u001b[1;31mKeyError\u001b[0m                                  Traceback (most recent call last)",
      "File \u001b[1;32mc:\\Users\\WeilunShi\\Dropbox (IFPRI)\\CML-Ethiopia - team folder\\Operation\\.venv\\Lib\\site-packages\\pandas\\core\\indexes\\base.py:3652\u001b[0m, in \u001b[0;36mIndex.get_loc\u001b[1;34m(self, key)\u001b[0m\n\u001b[0;32m   3651\u001b[0m \u001b[39mtry\u001b[39;00m:\n\u001b[1;32m-> 3652\u001b[0m     \u001b[39mreturn\u001b[39;00m \u001b[39mself\u001b[39;49m\u001b[39m.\u001b[39;49m_engine\u001b[39m.\u001b[39;49mget_loc(casted_key)\n\u001b[0;32m   3653\u001b[0m \u001b[39mexcept\u001b[39;00m \u001b[39mKeyError\u001b[39;00m \u001b[39mas\u001b[39;00m err:\n",
      "File \u001b[1;32mc:\\Users\\WeilunShi\\Dropbox (IFPRI)\\CML-Ethiopia - team folder\\Operation\\.venv\\Lib\\site-packages\\pandas\\_libs\\index.pyx:147\u001b[0m, in \u001b[0;36mpandas._libs.index.IndexEngine.get_loc\u001b[1;34m()\u001b[0m\n",
      "File \u001b[1;32mc:\\Users\\WeilunShi\\Dropbox (IFPRI)\\CML-Ethiopia - team folder\\Operation\\.venv\\Lib\\site-packages\\pandas\\_libs\\index.pyx:176\u001b[0m, in \u001b[0;36mpandas._libs.index.IndexEngine.get_loc\u001b[1;34m()\u001b[0m\n",
      "File \u001b[1;32mpandas\\_libs\\hashtable_class_helper.pxi:7080\u001b[0m, in \u001b[0;36mpandas._libs.hashtable.PyObjectHashTable.get_item\u001b[1;34m()\u001b[0m\n",
      "File \u001b[1;32mpandas\\_libs\\hashtable_class_helper.pxi:7088\u001b[0m, in \u001b[0;36mpandas._libs.hashtable.PyObjectHashTable.get_item\u001b[1;34m()\u001b[0m\n",
      "\u001b[1;31mKeyError\u001b[0m: 'b8_1'",
      "\nThe above exception was the direct cause of the following exception:\n",
      "\u001b[1;31mKeyError\u001b[0m                                  Traceback (most recent call last)",
      "Cell \u001b[1;32mIn[12], line 1\u001b[0m\n\u001b[1;32m----> 1\u001b[0m control[\u001b[39m'\u001b[39;49m\u001b[39mb8_1\u001b[39;49m\u001b[39m'\u001b[39;49m]\u001b[39m.\u001b[39mdescribe()\n",
      "File \u001b[1;32mc:\\Users\\WeilunShi\\Dropbox (IFPRI)\\CML-Ethiopia - team folder\\Operation\\.venv\\Lib\\site-packages\\pandas\\core\\frame.py:3761\u001b[0m, in \u001b[0;36mDataFrame.__getitem__\u001b[1;34m(self, key)\u001b[0m\n\u001b[0;32m   3759\u001b[0m \u001b[39mif\u001b[39;00m \u001b[39mself\u001b[39m\u001b[39m.\u001b[39mcolumns\u001b[39m.\u001b[39mnlevels \u001b[39m>\u001b[39m \u001b[39m1\u001b[39m:\n\u001b[0;32m   3760\u001b[0m     \u001b[39mreturn\u001b[39;00m \u001b[39mself\u001b[39m\u001b[39m.\u001b[39m_getitem_multilevel(key)\n\u001b[1;32m-> 3761\u001b[0m indexer \u001b[39m=\u001b[39m \u001b[39mself\u001b[39;49m\u001b[39m.\u001b[39;49mcolumns\u001b[39m.\u001b[39;49mget_loc(key)\n\u001b[0;32m   3762\u001b[0m \u001b[39mif\u001b[39;00m is_integer(indexer):\n\u001b[0;32m   3763\u001b[0m     indexer \u001b[39m=\u001b[39m [indexer]\n",
      "File \u001b[1;32mc:\\Users\\WeilunShi\\Dropbox (IFPRI)\\CML-Ethiopia - team folder\\Operation\\.venv\\Lib\\site-packages\\pandas\\core\\indexes\\base.py:3654\u001b[0m, in \u001b[0;36mIndex.get_loc\u001b[1;34m(self, key)\u001b[0m\n\u001b[0;32m   3652\u001b[0m     \u001b[39mreturn\u001b[39;00m \u001b[39mself\u001b[39m\u001b[39m.\u001b[39m_engine\u001b[39m.\u001b[39mget_loc(casted_key)\n\u001b[0;32m   3653\u001b[0m \u001b[39mexcept\u001b[39;00m \u001b[39mKeyError\u001b[39;00m \u001b[39mas\u001b[39;00m err:\n\u001b[1;32m-> 3654\u001b[0m     \u001b[39mraise\u001b[39;00m \u001b[39mKeyError\u001b[39;00m(key) \u001b[39mfrom\u001b[39;00m \u001b[39merr\u001b[39;00m\n\u001b[0;32m   3655\u001b[0m \u001b[39mexcept\u001b[39;00m \u001b[39mTypeError\u001b[39;00m:\n\u001b[0;32m   3656\u001b[0m     \u001b[39m# If we have a listlike key, _check_indexing_error will raise\u001b[39;00m\n\u001b[0;32m   3657\u001b[0m     \u001b[39m#  InvalidIndexError. Otherwise we fall through and re-raise\u001b[39;00m\n\u001b[0;32m   3658\u001b[0m     \u001b[39m#  the TypeError.\u001b[39;00m\n\u001b[0;32m   3659\u001b[0m     \u001b[39mself\u001b[39m\u001b[39m.\u001b[39m_check_indexing_error(key)\n",
      "\u001b[1;31mKeyError\u001b[0m: 'b8_1'"
     ]
    }
   ],
   "source": [
    "control['b8_1'].describe()"
   ]
  },
  {
   "cell_type": "code",
   "execution_count": 21,
   "metadata": {},
   "outputs": [
    {
     "name": "stdout",
     "output_type": "stream",
     "text": [
      "Series([], Name: count, dtype: float64)\n"
     ]
    }
   ],
   "source": [
    "frequency = pd.Series(control['b8_1']).value_counts()\n",
    "percentage = (frequency / control['b8_1'].size) * 100\n",
    "\n",
    "print(percentage)"
   ]
  },
  {
   "attachments": {},
   "cell_type": "markdown",
   "metadata": {},
   "source": [
    "Does anyone you know were affected by the (Date?) heavy rain/flood, e.g. relatives, friends etc.?"
   ]
  },
  {
   "cell_type": "code",
   "execution_count": 13,
   "metadata": {},
   "outputs": [
    {
     "name": "stdout",
     "output_type": "stream",
     "text": [
      "b8_2\n",
      "0.0    82.608696\n",
      "1.0    17.391304\n",
      "Name: count, dtype: float64\n"
     ]
    }
   ],
   "source": [
    "analysis = control[control['b8_2'] != '']\n",
    "#filter out blank responses\n",
    "analysis = analysis[analysis['b8_2'] != ' ']\n",
    "#filter out NaN\n",
    "analysis = analysis[analysis['b8_2'].notna()]\n",
    "frequency = pd.Series(analysis['b8_2']).value_counts()\n",
    "percentage = (frequency / analysis['b8_2'].size) * 100\n",
    "print(percentage)"
   ]
  },
  {
   "attachments": {},
   "cell_type": "markdown",
   "metadata": {},
   "source": [
    "If yes to D7_1 or D7_2 have you taken any precaution measure after the flood?"
   ]
  },
  {
   "cell_type": "code",
   "execution_count": 14,
   "metadata": {},
   "outputs": [
    {
     "name": "stdout",
     "output_type": "stream",
     "text": [
      "b8_3\n",
      "Yes    51.5625\n",
      "No     48.4375\n",
      "Name: count, dtype: float64\n"
     ]
    }
   ],
   "source": [
    "analysis = control[control['b8_3'] != '']\n",
    "#filter out blank responses\n",
    "analysis = analysis[analysis['b8_3'] != ' ']\n",
    "#filter out NaN\n",
    "analysis = analysis[analysis['b8_3'].notna()]\n",
    "frequency = pd.Series(analysis['b8_3']).value_counts()\n",
    "percentage = (frequency / analysis['b8_3'].size) * 100\n",
    "print(percentage)"
   ]
  },
  {
   "attachments": {},
   "cell_type": "markdown",
   "metadata": {},
   "source": [
    "Section: Follow-up survey"
   ]
  },
  {
   "attachments": {},
   "cell_type": "markdown",
   "metadata": {},
   "source": [
    "How many rainfall events did you experience today? "
   ]
  },
  {
   "cell_type": "code",
   "execution_count": 15,
   "metadata": {},
   "outputs": [
    {
     "name": "stdout",
     "output_type": "stream",
     "text": [
      "c1\n",
      "0.0    53.541374\n",
      "1.0    36.781206\n",
      "2.0     8.274895\n",
      "3.0     1.262272\n",
      "4.0     0.140252\n",
      "Name: count, dtype: float64\n"
     ]
    }
   ],
   "source": [
    "analysis = control[control['c1'] != '']\n",
    "#filter out blank responses\n",
    "analysis = analysis[analysis['c1'] != ' ']\n",
    "#filter out NaN\n",
    "analysis = analysis[analysis['c1'].notna()]\n",
    "frequency = pd.Series(analysis['c1']).value_counts()\n",
    "percentage = (frequency / analysis['c1'].size) * 100\n",
    "print(percentage)"
   ]
  },
  {
   "attachments": {},
   "cell_type": "markdown",
   "metadata": {},
   "source": [
    "When did you start to observe the rain?  "
   ]
  },
  {
   "attachments": {},
   "cell_type": "markdown",
   "metadata": {},
   "source": [
    "When did the rain stop? "
   ]
  },
  {
   "attachments": {},
   "cell_type": "markdown",
   "metadata": {},
   "source": [
    "C2_b When did you receive the alerts?"
   ]
  },
  {
   "attachments": {},
   "cell_type": "markdown",
   "metadata": {},
   "source": [
    "This sections should be considered together."
   ]
  },
  {
   "attachments": {},
   "cell_type": "markdown",
   "metadata": {},
   "source": [
    "Are you in the kebele that you are living when the rain started?"
   ]
  },
  {
   "cell_type": "code",
   "execution_count": 16,
   "metadata": {},
   "outputs": [
    {
     "name": "stdout",
     "output_type": "stream",
     "text": [
      "c1_c\n",
      "Yes    99.10847\n",
      "No      0.89153\n",
      "Name: count, dtype: float64\n"
     ]
    }
   ],
   "source": [
    "analysis = control[control['c1_c'] != '']\n",
    "#filter out blank responses\n",
    "analysis = analysis[analysis['c1_c'] != ' ']\n",
    "#filter out NaN\n",
    "analysis = analysis[analysis['c1_c'].notna()]\n",
    "frequency = pd.Series(analysis['c1_c']).value_counts()\n",
    "percentage = (frequency / analysis['c1_c'].size) * 100\n",
    "print(percentage)"
   ]
  },
  {
   "attachments": {},
   "cell_type": "markdown",
   "metadata": {},
   "source": [
    "How heavy is the rain?  "
   ]
  },
  {
   "cell_type": "code",
   "execution_count": 17,
   "metadata": {},
   "outputs": [
    {
     "name": "stdout",
     "output_type": "stream",
     "text": [
      "c1_e\n",
      "2=Light rain         40.638930\n",
      "3=Moderate rain      25.631501\n",
      "1=Very light rain    20.430906\n",
      "4=Heavy rain         11.515602\n",
      "5=Very heavy rain     1.783061\n",
      "Name: count, dtype: float64\n"
     ]
    }
   ],
   "source": [
    "analysis = control[control['c1_e'] != '']\n",
    "#filter out blank responses\n",
    "analysis = analysis[analysis['c1_e'] != ' ']\n",
    "#filter out NaN\n",
    "analysis = analysis[analysis['c1_e'].notna()]\n",
    "frequency = pd.Series(analysis['c1_e']).value_counts()\n",
    "percentage = (frequency / analysis['c1_e'].size) * 100\n",
    "print(percentage)\n"
   ]
  }
 ],
 "metadata": {
  "kernelspec": {
   "display_name": ".venv",
   "language": "python",
   "name": "python3"
  },
  "language_info": {
   "codemirror_mode": {
    "name": "ipython",
    "version": 3
   },
   "file_extension": ".py",
   "mimetype": "text/x-python",
   "name": "python",
   "nbconvert_exporter": "python",
   "pygments_lexer": "ipython3",
   "version": "3.11.3"
  },
  "orig_nbformat": 4
 },
 "nbformat": 4,
 "nbformat_minor": 2
}
