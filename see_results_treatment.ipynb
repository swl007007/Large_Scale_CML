{
 "cells": [
  {
   "cell_type": "code",
   "execution_count": 1,
   "metadata": {},
   "outputs": [
    {
     "name": "stdout",
     "output_type": "stream",
     "text": [
      "Note: you may need to restart the kernel to use updated packages.\n",
      "\n",
      "  ___  ____  ____  ____  ____ ©\n",
      " /__    /   ____/   /   ____/      17.0\n",
      "___/   /   /___/   /   /___/       MP—Parallel Edition\n",
      "\n",
      " Statistics and Data Science       Copyright 1985-2021 StataCorp LLC\n",
      "                                   StataCorp\n",
      "                                   4905 Lakeway Drive\n",
      "                                   College Station, Texas 77845 USA\n",
      "                                   800-STATA-PC        https://www.stata.com\n",
      "                                   979-696-4600        stata@stata.com\n",
      "\n",
      "Stata license: Unlimited-user 4-core network, expiring 31 May 2023\n",
      "Serial number: 501709320052\n",
      "  Licensed to: IFPRI\n",
      "               IFPRI\n",
      "\n",
      "Notes:\n",
      "      1. Unicode is supported; see help unicode_advice.\n",
      "      2. More than 2 billion observations are allowed; see help obs_advice.\n",
      "      3. Maximum number of variables is set to 5,000; see help set_maxvar.\n"
     ]
    }
   ],
   "source": [
    "# suppress warnings\n",
    "%pip install stata_setup --quiet\n",
    "import stata_setup\n",
    "import sys\n",
    "sys.path.append(r'C:/Program Files/Stata17/utilities')\n",
    "from pystata import config\n",
    "config.init('mp')"
   ]
  },
  {
   "cell_type": "code",
   "execution_count": 2,
   "metadata": {},
   "outputs": [],
   "source": [
    "import pandas as pd\n",
    "import datetime"
   ]
  },
  {
   "cell_type": "code",
   "execution_count": 3,
   "metadata": {},
   "outputs": [],
   "source": [
    "# read stata data\n",
    "treatment = pd.read_stata(r'C:\\Users\\WeilunShi\\Dropbox (IFPRI)\\CML-Ethiopia - team folder\\Operation\\Ready for Submission\\Ready for Submission\\Treatment_Group_Cleaned_V0.dta')\n",
    "control = pd.read_stata(r'C:\\Users\\WeilunShi\\Dropbox (IFPRI)\\CML-Ethiopia - team folder\\Operation\\Ready for Submission\\Ready for Submission\\Treatment_Group_Cleaned_V0.dta')\n"
   ]
  },
  {
   "cell_type": "code",
   "execution_count": 4,
   "metadata": {},
   "outputs": [
    {
     "data": {
      "text/plain": [
       "Index(['start_day', 'end_day', 'Interview_start_time', 'Interview_end_time',\n",
       "       'interview_time', 'interviewer_id', 'respondent_id', 'phone_no', 'a5',\n",
       "       'a6', 'b1', 'age', 'sex', 'b3', 'b4', 'Zone', 'W_CODE', 'Woreda',\n",
       "       'RK_CODE', 'kbele_code', 'RK_NAME', 'b4_1', 'b4_2', 'b4_3', 'b4_4',\n",
       "       'b5', 'b6', 'b7', 'b8_1', 'b8_2', 'b8_3', 'c1', 'c1_a', 'c1_b', 'c1_c',\n",
       "       'c1_e', 'c2', 'c2_b', 'd1', 'd2', 'd3_1', 'd3_2', 'd4_2', 'd4_21',\n",
       "       'd4_22', 'd4_23', 'd4_24', 'd4_25', 'd4_26', 'd4_27', 'd4_28', 'd4_1_2',\n",
       "       'd4_1_21', 'd4_1_22', 'd4_1_23', 'd4_1_24', 'd5', 'd5_1', 'd5_1_21',\n",
       "       'd5_1_22', 'd5_1_23', 'd5_1_24', 'd5_1_25', 'd6', 'd7_1', 'd7_2',\n",
       "       'd7_3', 'd8', 'd9', 'd10', '_index', 'MSISDN', 'flag'],\n",
       "      dtype='object')"
      ]
     },
     "execution_count": 4,
     "metadata": {},
     "output_type": "execute_result"
    }
   ],
   "source": [
    "treatment.columns"
   ]
  },
  {
   "cell_type": "code",
   "execution_count": 5,
   "metadata": {},
   "outputs": [
    {
     "data": {
      "text/plain": [
       "start_day               datetime64[ns]\n",
       "end_day                 datetime64[ns]\n",
       "Interview_start_time    datetime64[ns]\n",
       "Interview_end_time      datetime64[ns]\n",
       "interview_time          datetime64[ns]\n",
       "                             ...      \n",
       "d9                             float64\n",
       "d10                            float64\n",
       "_index                           int16\n",
       "MSISDN                          object\n",
       "flag                           float32\n",
       "Length: 73, dtype: object"
      ]
     },
     "execution_count": 5,
     "metadata": {},
     "output_type": "execute_result"
    }
   ],
   "source": [
    "treatment.dtypes"
   ]
  },
  {
   "attachments": {},
   "cell_type": "markdown",
   "metadata": {},
   "source": [
    "Section: Preliminary results"
   ]
  },
  {
   "attachments": {},
   "cell_type": "markdown",
   "metadata": {},
   "source": [
    "total response rate is 55.90%+1.44%=57.34%"
   ]
  },
  {
   "cell_type": "code",
   "execution_count": 6,
   "metadata": {},
   "outputs": [
    {
     "name": "stdout",
     "output_type": "stream",
     "text": [
      "a5\n",
      "Yes, the same person in the respondent list    55.906236\n",
      "No                                             42.653593\n",
      "Yes, another member of the household/friend     1.440172\n",
      "Name: count, dtype: float64\n"
     ]
    }
   ],
   "source": [
    "frequency = pd.Series(treatment['a5']).value_counts()\n",
    "percentage = (frequency / treatment['a5'].size) * 100\n",
    "\n",
    "print(percentage)"
   ]
  },
  {
   "cell_type": "code",
   "execution_count": 4,
   "metadata": {},
   "outputs": [],
   "source": [
    "# filter out the responses that are \"no\"\n",
    "treatment = treatment[treatment['a5'] != 'no']"
   ]
  },
  {
   "attachments": {},
   "cell_type": "markdown",
   "metadata": {},
   "source": [
    "Do you think the area you live is at risk of damages from heavy rainfall?"
   ]
  },
  {
   "cell_type": "code",
   "execution_count": 8,
   "metadata": {},
   "outputs": [
    {
     "name": "stdout",
     "output_type": "stream",
     "text": [
      "b5\n",
      "Yes    50.123762\n",
      "No     49.876238\n",
      "Name: count, dtype: float64\n"
     ]
    }
   ],
   "source": [
    "analysis = treatment[treatment['b5'] != '']\n",
    "#filter out blank responses\n",
    "analysis = analysis[analysis['b5'] != ' ']\n",
    "#filter out NaN\n",
    "analysis = analysis[analysis['b5'].notna()]\n",
    "frequency = pd.Series(analysis['b5']).value_counts()\n",
    "percentage = (frequency / analysis['b5'].size) * 100\n",
    "print(percentage)"
   ]
  },
  {
   "attachments": {},
   "cell_type": "markdown",
   "metadata": {},
   "source": [
    "Were you affected by the recent heavy rain/flood (Date?) in your area?"
   ]
  },
  {
   "cell_type": "code",
   "execution_count": 9,
   "metadata": {},
   "outputs": [
    {
     "name": "stdout",
     "output_type": "stream",
     "text": [
      "b6\n",
      "No     83.787129\n",
      "Yes    16.212871\n",
      "Name: count, dtype: float64\n"
     ]
    }
   ],
   "source": [
    "analysis = treatment[treatment['b6'] != '']\n",
    "#filter out blank responses\n",
    "analysis = analysis[analysis['b6'] != ' ']\n",
    "#filter out NaN\n",
    "analysis = analysis[analysis['b6'].notna()]\n",
    "frequency = pd.Series(analysis['b6']).value_counts()\n",
    "percentage = (frequency / analysis['b6'].size) * 100\n",
    "print(percentage)"
   ]
  },
  {
   "attachments": {},
   "cell_type": "markdown",
   "metadata": {},
   "source": [
    "Have you or your family suffered losses from flood/landslide/excessive rainfall in the past 3 years?"
   ]
  },
  {
   "cell_type": "code",
   "execution_count": 10,
   "metadata": {},
   "outputs": [
    {
     "name": "stdout",
     "output_type": "stream",
     "text": [
      "b7\n",
      "No     84.158416\n",
      "Yes    15.841584\n",
      "Name: count, dtype: float64\n"
     ]
    }
   ],
   "source": [
    "analysis = treatment[treatment['b7'] != '']\n",
    "#filter out blank responses\n",
    "analysis = analysis[analysis['b7'] != ' ']\n",
    "#filter out NaN\n",
    "analysis = analysis[analysis['b7'].notna()]\n",
    "frequency = pd.Series(analysis['b7']).value_counts()\n",
    "percentage = (frequency / analysis['b7'].size) * 100\n",
    "print(percentage)"
   ]
  },
  {
   "attachments": {},
   "cell_type": "markdown",
   "metadata": {},
   "source": [
    "Were you affected by the recent heavy rain/flood (Date?) in your area?"
   ]
  },
  {
   "attachments": {},
   "cell_type": "markdown",
   "metadata": {},
   "source": [
    "This question is not valid."
   ]
  },
  {
   "cell_type": "code",
   "execution_count": 23,
   "metadata": {},
   "outputs": [
    {
     "data": {
      "text/plain": [
       "count    0.0\n",
       "mean     NaN\n",
       "std      NaN\n",
       "min      NaN\n",
       "25%      NaN\n",
       "50%      NaN\n",
       "75%      NaN\n",
       "max      NaN\n",
       "Name: b8_1, dtype: float64"
      ]
     },
     "execution_count": 23,
     "metadata": {},
     "output_type": "execute_result"
    }
   ],
   "source": [
    "treatment['b8_1'].describe()"
   ]
  },
  {
   "cell_type": "code",
   "execution_count": 21,
   "metadata": {},
   "outputs": [
    {
     "name": "stdout",
     "output_type": "stream",
     "text": [
      "Series([], Name: count, dtype: float64)\n"
     ]
    }
   ],
   "source": [
    "frequency = pd.Series(treatment['b8_1']).value_counts()\n",
    "percentage = (frequency / treatment['b8_1'].size) * 100\n",
    "\n",
    "print(percentage)"
   ]
  },
  {
   "attachments": {},
   "cell_type": "markdown",
   "metadata": {},
   "source": [
    "Does anyone you know were affected by the (Date?) heavy rain/flood, e.g. relatives, friends etc.?"
   ]
  },
  {
   "cell_type": "code",
   "execution_count": 11,
   "metadata": {},
   "outputs": [
    {
     "name": "stdout",
     "output_type": "stream",
     "text": [
      "b8_2\n",
      "No     83.787129\n",
      "Yes    16.212871\n",
      "Name: count, dtype: float64\n"
     ]
    }
   ],
   "source": [
    "analysis = treatment[treatment['b8_2'] != '']\n",
    "#filter out blank responses\n",
    "analysis = analysis[analysis['b8_2'] != ' ']\n",
    "#filter out NaN\n",
    "analysis = analysis[analysis['b8_2'].notna()]\n",
    "frequency = pd.Series(analysis['b8_2']).value_counts()\n",
    "percentage = (frequency / analysis['b8_2'].size) * 100\n",
    "print(percentage)"
   ]
  },
  {
   "attachments": {},
   "cell_type": "markdown",
   "metadata": {},
   "source": [
    "If yes to D7_1 or D7_2 have you taken any precaution measure after the flood?"
   ]
  },
  {
   "cell_type": "code",
   "execution_count": 12,
   "metadata": {},
   "outputs": [
    {
     "name": "stdout",
     "output_type": "stream",
     "text": [
      "b8_3\n",
      "Yes    63.358779\n",
      "No     36.641221\n",
      "Name: count, dtype: float64\n"
     ]
    }
   ],
   "source": [
    "analysis = treatment[treatment['b8_3'] != '']\n",
    "#filter out blank responses\n",
    "analysis = analysis[analysis['b8_3'] != ' ']\n",
    "#filter out NaN\n",
    "analysis = analysis[analysis['b8_3'].notna()]\n",
    "frequency = pd.Series(analysis['b8_3']).value_counts()\n",
    "percentage = (frequency / analysis['b8_3'].size) * 100\n",
    "print(percentage)"
   ]
  },
  {
   "attachments": {},
   "cell_type": "markdown",
   "metadata": {},
   "source": [
    "Section: Follow-up survey"
   ]
  },
  {
   "attachments": {},
   "cell_type": "markdown",
   "metadata": {},
   "source": [
    "How many rainfall events did you experience today? "
   ]
  },
  {
   "cell_type": "code",
   "execution_count": 13,
   "metadata": {},
   "outputs": [
    {
     "name": "stdout",
     "output_type": "stream",
     "text": [
      "c1\n",
      "0.0    57.366571\n",
      "1.0    38.063279\n",
      "2.0     3.899009\n",
      "3.0     0.639182\n",
      "4.0     0.031959\n",
      "Name: count, dtype: float64\n"
     ]
    }
   ],
   "source": [
    "analysis = treatment[treatment['c1'] != '']\n",
    "#filter out blank responses\n",
    "analysis = analysis[analysis['c1'] != ' ']\n",
    "#filter out NaN\n",
    "analysis = analysis[analysis['c1'].notna()]\n",
    "frequency = pd.Series(analysis['c1']).value_counts()\n",
    "percentage = (frequency / analysis['c1'].size) * 100\n",
    "print(percentage)"
   ]
  },
  {
   "attachments": {},
   "cell_type": "markdown",
   "metadata": {},
   "source": [
    "When did you start to observe the rain?  "
   ]
  },
  {
   "attachments": {},
   "cell_type": "markdown",
   "metadata": {},
   "source": [
    "When did the rain stop? "
   ]
  },
  {
   "attachments": {},
   "cell_type": "markdown",
   "metadata": {},
   "source": [
    "C2_b When did you receive the alerts?"
   ]
  },
  {
   "attachments": {},
   "cell_type": "markdown",
   "metadata": {},
   "source": [
    "This sections should be considered together."
   ]
  },
  {
   "cell_type": "code",
   "execution_count": 14,
   "metadata": {},
   "outputs": [],
   "source": [
    "# parse hours and minutes in c2_b \n",
    "treatment['c2_b_hours'] = treatment['c2_b'].str.split(':').str[0]\n",
    "treatment['c2_b_minutes'] = treatment['c2_b'].str.split(':').str[1]\n",
    "\n",
    "# combine the hours and minute and convert to datetime\n",
    "treatment['c2_b_datetime'] = pd.to_datetime(treatment['c2_b_hours'] + ':' + treatment['c2_b_minutes'], format='%H:%M')"
   ]
  },
  {
   "cell_type": "code",
   "execution_count": 15,
   "metadata": {},
   "outputs": [
    {
     "data": {
      "text/plain": [
       "count                             1307\n",
       "mean     1900-01-01 12:05:41.178270720\n",
       "min                1900-01-01 00:00:00\n",
       "25%                1900-01-01 08:00:00\n",
       "50%                1900-01-01 13:03:00\n",
       "75%                1900-01-01 16:00:00\n",
       "max                1900-01-01 23:59:00\n",
       "Name: c2_b_datetime, dtype: object"
      ]
     },
     "execution_count": 15,
     "metadata": {},
     "output_type": "execute_result"
    }
   ],
   "source": [
    "treatment['c2_b_datetime'].describe()"
   ]
  },
  {
   "attachments": {},
   "cell_type": "markdown",
   "metadata": {},
   "source": [
    "Are you in the kebele that you are living when the rain started?"
   ]
  },
  {
   "cell_type": "code",
   "execution_count": 16,
   "metadata": {},
   "outputs": [
    {
     "name": "stdout",
     "output_type": "stream",
     "text": [
      "c1_c\n",
      "Yes    97.293729\n",
      "No      2.706271\n",
      "Name: count, dtype: float64\n"
     ]
    }
   ],
   "source": [
    "analysis = treatment[treatment['c1_c'] != '']\n",
    "#filter out blank responses\n",
    "analysis = analysis[analysis['c1_c'] != ' ']\n",
    "#filter out NaN\n",
    "analysis = analysis[analysis['c1_c'].notna()]\n",
    "frequency = pd.Series(analysis['c1_c']).value_counts()\n",
    "percentage = (frequency / analysis['c1_c'].size) * 100\n",
    "print(percentage)"
   ]
  },
  {
   "attachments": {},
   "cell_type": "markdown",
   "metadata": {},
   "source": [
    "How heavy is the rain?  "
   ]
  },
  {
   "cell_type": "code",
   "execution_count": 17,
   "metadata": {},
   "outputs": [
    {
     "name": "stdout",
     "output_type": "stream",
     "text": [
      "c1_e\n",
      "Light rain         32.673267\n",
      "Moderate rain      29.966997\n",
      "Very light rain    23.432343\n",
      "Heavy rain         12.475248\n",
      "Very heavy rain     1.452145\n",
      "Name: count, dtype: float64\n"
     ]
    }
   ],
   "source": [
    "analysis = treatment[treatment['c1_e'] != '']\n",
    "#filter out blank responses\n",
    "analysis = analysis[analysis['c1_e'] != ' ']\n",
    "#filter out NaN\n",
    "analysis = analysis[analysis['c1_e'].notna()]\n",
    "frequency = pd.Series(analysis['c1_e']).value_counts()\n",
    "percentage = (frequency / analysis['c1_e'].size) * 100\n",
    "print(percentage)\n"
   ]
  },
  {
   "attachments": {},
   "cell_type": "markdown",
   "metadata": {},
   "source": [
    "Did you receive a rain alert today?"
   ]
  },
  {
   "cell_type": "code",
   "execution_count": 22,
   "metadata": {},
   "outputs": [
    {
     "name": "stdout",
     "output_type": "stream",
     "text": [
      "c2\n",
      "0.0    61.840844\n",
      "1.0    38.159156\n",
      "Name: count, dtype: float64\n"
     ]
    }
   ],
   "source": [
    "# filter out missing data\n",
    "analysis = treatment[treatment['c2'] != '']\n",
    "#filter out blank responses\n",
    "analysis = analysis[analysis['c2'] != ' ']\n",
    "#filter out NaN\n",
    "analysis = analysis[analysis['c2'].notna()]\n",
    "frequency = pd.Series(analysis['c2']).value_counts()\n",
    "percentage = (frequency / analysis['c2'].size) * 100\n",
    "print(percentage)"
   ]
  },
  {
   "attachments": {},
   "cell_type": "markdown",
   "metadata": {},
   "source": [
    "1=Yes \n",
    "0=No"
   ]
  },
  {
   "attachments": {},
   "cell_type": "markdown",
   "metadata": {},
   "source": [
    "If c2=yes, how many times did you receive it? "
   ]
  },
  {
   "cell_type": "code",
   "execution_count": 24,
   "metadata": {},
   "outputs": [
    {
     "name": "stdout",
     "output_type": "stream",
     "text": [
      "False\n"
     ]
    }
   ],
   "source": [
    "# see if c2_a exists in the columns\n",
    "print('c2_a' in treatment.columns)"
   ]
  },
  {
   "attachments": {},
   "cell_type": "markdown",
   "metadata": {},
   "source": [
    "Do not have this column"
   ]
  },
  {
   "attachments": {},
   "cell_type": "markdown",
   "metadata": {},
   "source": [
    "Section: Feedback Survet"
   ]
  },
  {
   "attachments": {},
   "cell_type": "markdown",
   "metadata": {},
   "source": [
    "Accurate rain alert means the heavy rain did occur from 1 hour and 15 mins before to 3 hours after the alert was received to your phone.\n",
    "Based on your experience, what is the percentage of accurate heavy rain alerts you received in the past week?"
   ]
  },
  {
   "cell_type": "code",
   "execution_count": 19,
   "metadata": {},
   "outputs": [
    {
     "name": "stdout",
     "output_type": "stream",
     "text": [
      "d1\n",
      "4.0    35.329341\n",
      "3.0    25.149701\n",
      "2.0    18.263473\n",
      "1.0    15.568862\n",
      "5.0     5.688623\n",
      "Name: count, dtype: float64\n"
     ]
    }
   ],
   "source": [
    "analysis = treatment[treatment['d1'] != '']\n",
    "#filter out blank responses\n",
    "analysis = analysis[analysis['d1'] != ' ']\n",
    "#filter out NaN\n",
    "analysis = analysis[analysis['d1'].notna()]\n",
    "frequency = pd.Series(analysis['d1']).value_counts()\n",
    "percentage = (frequency / analysis['d1'].size) * 100\n",
    "print(percentage)"
   ]
  },
  {
   "attachments": {},
   "cell_type": "markdown",
   "metadata": {},
   "source": [
    "1. <10%        2. 10-30%\n",
    "3. 30-50%          4. 50%-80%\n",
    "5. >80%"
   ]
  },
  {
   "attachments": {},
   "cell_type": "markdown",
   "metadata": {},
   "source": [
    "Did you share the alert information with others?   "
   ]
  },
  {
   "cell_type": "code",
   "execution_count": 20,
   "metadata": {},
   "outputs": [
    {
     "name": "stdout",
     "output_type": "stream",
     "text": [
      "d2\n",
      "1.0    59.580838\n",
      "0.0    40.419162\n",
      "Name: count, dtype: float64\n"
     ]
    }
   ],
   "source": [
    "analysis = treatment[treatment['d2'] != '']\n",
    "#filter out blank responses\n",
    "analysis = analysis[analysis['d2'] != ' ']\n",
    "#filter out NaN\n",
    "analysis = analysis[analysis['d2'].notna()]\n",
    "frequency = pd.Series(analysis['d2']).value_counts()\n",
    "percentage = (frequency / analysis['d2'].size) * 100\n",
    "print(percentage)"
   ]
  },
  {
   "attachments": {},
   "cell_type": "markdown",
   "metadata": {},
   "source": [
    "1=Yes\n",
    "2=No\n"
   ]
  },
  {
   "attachments": {},
   "cell_type": "markdown",
   "metadata": {},
   "source": [
    "If yes, please indicate who you shared with (choose all that apply)?"
   ]
  },
  {
   "cell_type": "code",
   "execution_count": 25,
   "metadata": {},
   "outputs": [
    {
     "name": "stdout",
     "output_type": "stream",
     "text": [
      "d3_1\n",
      "2.0    43.216080\n",
      "1.0    36.180905\n",
      "3.0    10.050251\n",
      "4.0    10.050251\n",
      "5.0     0.502513\n",
      "Name: count, dtype: float64\n"
     ]
    }
   ],
   "source": [
    "analysis = treatment[treatment['d3_1'] != '']\n",
    "#filter out blank responses\n",
    "analysis = analysis[analysis['d3_1'] != ' ']\n",
    "#filter out NaN\n",
    "analysis = analysis[analysis['d3_1'].notna()]\n",
    "frequency = pd.Series(analysis['d3_1']).value_counts()\n",
    "percentage = (frequency / analysis['d3_1'].size) * 100\n",
    "print(percentage)"
   ]
  },
  {
   "attachments": {},
   "cell_type": "markdown",
   "metadata": {},
   "source": [
    "1= Household members\n",
    "2=Friends\n",
    "3=Relatives\n",
    "4=Neighbors\n",
    "5=Others"
   ]
  },
  {
   "attachments": {},
   "cell_type": "markdown",
   "metadata": {},
   "source": [
    "If no, please indicate why you did not share with others"
   ]
  },
  {
   "cell_type": "code",
   "execution_count": 26,
   "metadata": {},
   "outputs": [
    {
     "name": "stdout",
     "output_type": "stream",
     "text": [
      "d3_2\n",
      "3.0    59.259259\n",
      "1.0    22.222222\n",
      "4.0    13.333333\n",
      "2.0     5.185185\n",
      "Name: count, dtype: float64\n"
     ]
    }
   ],
   "source": [
    "analysis = treatment[treatment['d3_2'] != '']\n",
    "#filter out blank responses\n",
    "analysis = analysis[analysis['d3_2'] != ' ']\n",
    "#filter out NaN\n",
    "analysis = analysis[analysis['d3_2'].notna()]\n",
    "frequency = pd.Series(analysis['d3_2']).value_counts()\n",
    "percentage = (frequency / analysis['d3_2'].size) * 100\n",
    "print(percentage)"
   ]
  },
  {
   "attachments": {},
   "cell_type": "markdown",
   "metadata": {},
   "source": [
    "Did you take any of the preventative actions after received the alerts? (Multiple choice)"
   ]
  },
  {
   "cell_type": "code",
   "execution_count": null,
   "metadata": {},
   "outputs": [],
   "source": [
    "analysis = treatment[treatment['d3_2'] != '']\n",
    "#filter out blank responses\n",
    "analysis = analysis[analysis['d3_2'] != ' ']\n",
    "#filter out NaN\n",
    "analysis = analysis[analysis['d3_2'].notna()]\n",
    "frequency = pd.Series(analysis['d3_2']).value_counts()\n",
    "percentage = (frequency / analysis['d3_2'].size) * 100\n",
    "print(percentage)"
   ]
  },
  {
   "attachments": {},
   "cell_type": "markdown",
   "metadata": {},
   "source": [
    "If you didn’t take any actions, what is the reason? (multiple choices)"
   ]
  },
  {
   "cell_type": "code",
   "execution_count": 6,
   "metadata": {},
   "outputs": [
    {
     "name": "stdout",
     "output_type": "stream",
     "text": [
      "d4_2\n",
      "8.0    59.861592\n",
      "2.0    25.259516\n",
      "1.0     5.536332\n",
      "4.0     3.460208\n",
      "5.0     2.076125\n",
      "7.0     2.076125\n",
      "3.0     1.038062\n",
      "6.0     0.692042\n",
      "Name: count, dtype: float64\n"
     ]
    }
   ],
   "source": [
    "analysis = treatment[treatment['d4_2'] != '']\n",
    "#filter out blank responses\n",
    "analysis = analysis[analysis['d4_2'] != ' ']\n",
    "#filter out NaN\n",
    "analysis = analysis[analysis['d4_2'].notna()]\n",
    "frequency = pd.Series(analysis['d4_2']).value_counts()\n",
    "percentage = (frequency / analysis['d4_2'].size) * 100\n",
    "print(percentage)"
   ]
  },
  {
   "attachments": {},
   "cell_type": "markdown",
   "metadata": {},
   "source": [
    "1=Change to travel plan, e.g. avoid traveling or leave dangerous locations, such as riverbanks, under the tree etc.\n",
    "2=Informed family and friends about the coming rain\n",
    "3=Turn off the electronics\n",
    "4=Seek for shelters\n",
    "5=Keep important/valuable assets (documents, cash, car etc) at safe place.\n",
    "6=Evacuate to other places\n",
    "7=others, please specify_________\n",
    "8=No action is taken\n"
   ]
  },
  {
   "cell_type": "code",
   "execution_count": 7,
   "metadata": {},
   "outputs": [
    {
     "name": "stdout",
     "output_type": "stream",
     "text": [
      "d4_1_2\n",
      "1.0    37.305699\n",
      "2.0    30.569948\n",
      "3.0    20.207254\n",
      "4.0    11.917098\n",
      "Name: count, dtype: float64\n"
     ]
    }
   ],
   "source": [
    "analysis = treatment[treatment['d4_1_2'] != '']\n",
    "#filter out blank responses\n",
    "analysis = analysis[analysis['d4_1_2'] != ' ']\n",
    "#filter out NaN\n",
    "analysis = analysis[analysis['d4_1_2'].notna()]\n",
    "frequency = pd.Series(analysis['d4_1_2']).value_counts()\n",
    "percentage = (frequency / analysis['d4_1_2'].size) * 100\n",
    "print(percentage)"
   ]
  },
  {
   "attachments": {},
   "cell_type": "markdown",
   "metadata": {},
   "source": [
    "1=Don’t think it’s necessary\n",
    "2=Don’t know what actions to take\n",
    "3=Don’t trust the alert is accurate\n",
    "4=Other, please specify_________"
   ]
  },
  {
   "attachments": {},
   "cell_type": "markdown",
   "metadata": {},
   "source": [
    "Do you find the heavy rain alerts system helpful if you will receive the alert one hour and 15 minutes earlier than the current one?"
   ]
  },
  {
   "cell_type": "code",
   "execution_count": 8,
   "metadata": {},
   "outputs": [
    {
     "name": "stdout",
     "output_type": "stream",
     "text": [
      "d5\n",
      "1.0    92.814371\n",
      "2.0     7.185629\n",
      "Name: count, dtype: float64\n"
     ]
    }
   ],
   "source": [
    "analysis = treatment[treatment['d5'] != '']\n",
    "#filter out blank responses\n",
    "analysis = analysis[analysis['d5'] != ' ']\n",
    "#filter out NaN\n",
    "analysis = analysis[analysis['d5'].notna()]\n",
    "frequency = pd.Series(analysis['d5']).value_counts()\n",
    "percentage = (frequency / analysis['d5'].size) * 100\n",
    "print(percentage)"
   ]
  },
  {
   "attachments": {},
   "cell_type": "markdown",
   "metadata": {},
   "source": [
    "If no, why? (multiple choices)"
   ]
  },
  {
   "cell_type": "code",
   "execution_count": 9,
   "metadata": {},
   "outputs": [
    {
     "name": "stdout",
     "output_type": "stream",
     "text": [
      "d5_1\n",
      "1.0    40.909091\n",
      "4.0    22.727273\n",
      "2.0    18.181818\n",
      "5.0    18.181818\n",
      "Name: count, dtype: float64\n"
     ]
    }
   ],
   "source": [
    "analysis = treatment[treatment['d5_1'] != '']\n",
    "#filter out blank responses\n",
    "analysis = analysis[analysis['d5_1'] != ' ']\n",
    "#filter out NaN\n",
    "analysis = analysis[analysis['d5_1'].notna()]\n",
    "frequency = pd.Series(analysis['d5_1']).value_counts()\n",
    "percentage = (frequency / analysis['d5_1'].size) * 100\n",
    "print(percentage)"
   ]
  },
  {
   "attachments": {},
   "cell_type": "markdown",
   "metadata": {},
   "source": [
    "1=Not accurate – did not receive alerts when heavy rains occurred and did not rain when receiving alerts\n",
    "2=Not accurate – Forecast window too wide\n",
    "3=Not necessary because heavy rain occurs frequently during rainy season\n",
    "4=Not necessary because my family is unlikely to be affected by heavy rain"
   ]
  },
  {
   "attachments": {},
   "cell_type": "markdown",
   "metadata": {},
   "source": [
    "Do you think the area you live is at risk of damages from heavy rainfall?"
   ]
  },
  {
   "cell_type": "code",
   "execution_count": 10,
   "metadata": {},
   "outputs": [
    {
     "name": "stdout",
     "output_type": "stream",
     "text": [
      "d6\n",
      "1.0    100.0\n",
      "Name: count, dtype: float64\n"
     ]
    }
   ],
   "source": [
    "analysis = treatment[treatment['d6'] != '']\n",
    "#filter out blank responses\n",
    "analysis = analysis[analysis['d6'] != ' ']\n",
    "#filter out NaN\n",
    "analysis = analysis[analysis['d6'].notna()]\n",
    "frequency = pd.Series(analysis['d6']).value_counts()\n",
    "percentage = (frequency / analysis['d6'].size) * 100\n",
    "print(percentage)"
   ]
  },
  {
   "cell_type": "code",
   "execution_count": 12,
   "metadata": {},
   "outputs": [
    {
     "data": {
      "text/html": [
       "<div>\n",
       "<style scoped>\n",
       "    .dataframe tbody tr th:only-of-type {\n",
       "        vertical-align: middle;\n",
       "    }\n",
       "\n",
       "    .dataframe tbody tr th {\n",
       "        vertical-align: top;\n",
       "    }\n",
       "\n",
       "    .dataframe thead th {\n",
       "        text-align: right;\n",
       "    }\n",
       "</style>\n",
       "<table border=\"1\" class=\"dataframe\">\n",
       "  <thead>\n",
       "    <tr style=\"text-align: right;\">\n",
       "      <th></th>\n",
       "      <th>start_day</th>\n",
       "      <th>end_day</th>\n",
       "      <th>Interview_start_time</th>\n",
       "      <th>Interview_end_time</th>\n",
       "      <th>interview_time</th>\n",
       "      <th>interviewer_id</th>\n",
       "      <th>age</th>\n",
       "      <th>b4</th>\n",
       "      <th>W_CODE</th>\n",
       "      <th>RK_CODE</th>\n",
       "      <th>...</th>\n",
       "      <th>d5_1_25</th>\n",
       "      <th>d6</th>\n",
       "      <th>d7_1</th>\n",
       "      <th>d7_2</th>\n",
       "      <th>d7_3</th>\n",
       "      <th>d8</th>\n",
       "      <th>d9</th>\n",
       "      <th>d10</th>\n",
       "      <th>_index</th>\n",
       "      <th>flag</th>\n",
       "    </tr>\n",
       "  </thead>\n",
       "  <tbody>\n",
       "    <tr>\n",
       "      <th>count</th>\n",
       "      <td>1</td>\n",
       "      <td>1</td>\n",
       "      <td>1</td>\n",
       "      <td>1</td>\n",
       "      <td>1</td>\n",
       "      <td>1.0</td>\n",
       "      <td>1.0</td>\n",
       "      <td>0.0</td>\n",
       "      <td>1.0</td>\n",
       "      <td>1.0</td>\n",
       "      <td>...</td>\n",
       "      <td>0.0</td>\n",
       "      <td>1.0</td>\n",
       "      <td>1.0</td>\n",
       "      <td>1.0</td>\n",
       "      <td>1.0</td>\n",
       "      <td>1.0</td>\n",
       "      <td>1.0</td>\n",
       "      <td>0.0</td>\n",
       "      <td>1.0</td>\n",
       "      <td>0.0</td>\n",
       "    </tr>\n",
       "    <tr>\n",
       "      <th>mean</th>\n",
       "      <td>2022-09-09 00:00:00</td>\n",
       "      <td>2022-09-16 00:00:00</td>\n",
       "      <td>1960-01-01 17:53:52</td>\n",
       "      <td>1960-01-01 14:28:51</td>\n",
       "      <td>2022-09-09 00:00:00</td>\n",
       "      <td>16.0</td>\n",
       "      <td>21.0</td>\n",
       "      <td>NaN</td>\n",
       "      <td>30704.0</td>\n",
       "      <td>30704001.0</td>\n",
       "      <td>...</td>\n",
       "      <td>NaN</td>\n",
       "      <td>1.0</td>\n",
       "      <td>1.0</td>\n",
       "      <td>0.0</td>\n",
       "      <td>0.0</td>\n",
       "      <td>0.0</td>\n",
       "      <td>1.0</td>\n",
       "      <td>NaN</td>\n",
       "      <td>4.0</td>\n",
       "      <td>NaN</td>\n",
       "    </tr>\n",
       "    <tr>\n",
       "      <th>min</th>\n",
       "      <td>2022-09-09 00:00:00</td>\n",
       "      <td>2022-09-16 00:00:00</td>\n",
       "      <td>1960-01-01 17:53:52</td>\n",
       "      <td>1960-01-01 14:28:51</td>\n",
       "      <td>2022-09-09 00:00:00</td>\n",
       "      <td>16.0</td>\n",
       "      <td>21.0</td>\n",
       "      <td>NaN</td>\n",
       "      <td>30704.0</td>\n",
       "      <td>30704001.0</td>\n",
       "      <td>...</td>\n",
       "      <td>NaN</td>\n",
       "      <td>1.0</td>\n",
       "      <td>1.0</td>\n",
       "      <td>0.0</td>\n",
       "      <td>0.0</td>\n",
       "      <td>0.0</td>\n",
       "      <td>1.0</td>\n",
       "      <td>NaN</td>\n",
       "      <td>4.0</td>\n",
       "      <td>NaN</td>\n",
       "    </tr>\n",
       "    <tr>\n",
       "      <th>25%</th>\n",
       "      <td>2022-09-09 00:00:00</td>\n",
       "      <td>2022-09-16 00:00:00</td>\n",
       "      <td>1960-01-01 17:53:52</td>\n",
       "      <td>1960-01-01 14:28:51</td>\n",
       "      <td>2022-09-09 00:00:00</td>\n",
       "      <td>16.0</td>\n",
       "      <td>21.0</td>\n",
       "      <td>NaN</td>\n",
       "      <td>30704.0</td>\n",
       "      <td>30704001.0</td>\n",
       "      <td>...</td>\n",
       "      <td>NaN</td>\n",
       "      <td>1.0</td>\n",
       "      <td>1.0</td>\n",
       "      <td>0.0</td>\n",
       "      <td>0.0</td>\n",
       "      <td>0.0</td>\n",
       "      <td>1.0</td>\n",
       "      <td>NaN</td>\n",
       "      <td>4.0</td>\n",
       "      <td>NaN</td>\n",
       "    </tr>\n",
       "    <tr>\n",
       "      <th>50%</th>\n",
       "      <td>2022-09-09 00:00:00</td>\n",
       "      <td>2022-09-16 00:00:00</td>\n",
       "      <td>1960-01-01 17:53:52</td>\n",
       "      <td>1960-01-01 14:28:51</td>\n",
       "      <td>2022-09-09 00:00:00</td>\n",
       "      <td>16.0</td>\n",
       "      <td>21.0</td>\n",
       "      <td>NaN</td>\n",
       "      <td>30704.0</td>\n",
       "      <td>30704001.0</td>\n",
       "      <td>...</td>\n",
       "      <td>NaN</td>\n",
       "      <td>1.0</td>\n",
       "      <td>1.0</td>\n",
       "      <td>0.0</td>\n",
       "      <td>0.0</td>\n",
       "      <td>0.0</td>\n",
       "      <td>1.0</td>\n",
       "      <td>NaN</td>\n",
       "      <td>4.0</td>\n",
       "      <td>NaN</td>\n",
       "    </tr>\n",
       "    <tr>\n",
       "      <th>75%</th>\n",
       "      <td>2022-09-09 00:00:00</td>\n",
       "      <td>2022-09-16 00:00:00</td>\n",
       "      <td>1960-01-01 17:53:52</td>\n",
       "      <td>1960-01-01 14:28:51</td>\n",
       "      <td>2022-09-09 00:00:00</td>\n",
       "      <td>16.0</td>\n",
       "      <td>21.0</td>\n",
       "      <td>NaN</td>\n",
       "      <td>30704.0</td>\n",
       "      <td>30704001.0</td>\n",
       "      <td>...</td>\n",
       "      <td>NaN</td>\n",
       "      <td>1.0</td>\n",
       "      <td>1.0</td>\n",
       "      <td>0.0</td>\n",
       "      <td>0.0</td>\n",
       "      <td>0.0</td>\n",
       "      <td>1.0</td>\n",
       "      <td>NaN</td>\n",
       "      <td>4.0</td>\n",
       "      <td>NaN</td>\n",
       "    </tr>\n",
       "    <tr>\n",
       "      <th>max</th>\n",
       "      <td>2022-09-09 00:00:00</td>\n",
       "      <td>2022-09-16 00:00:00</td>\n",
       "      <td>1960-01-01 17:53:52</td>\n",
       "      <td>1960-01-01 14:28:51</td>\n",
       "      <td>2022-09-09 00:00:00</td>\n",
       "      <td>16.0</td>\n",
       "      <td>21.0</td>\n",
       "      <td>NaN</td>\n",
       "      <td>30704.0</td>\n",
       "      <td>30704001.0</td>\n",
       "      <td>...</td>\n",
       "      <td>NaN</td>\n",
       "      <td>1.0</td>\n",
       "      <td>1.0</td>\n",
       "      <td>0.0</td>\n",
       "      <td>0.0</td>\n",
       "      <td>0.0</td>\n",
       "      <td>1.0</td>\n",
       "      <td>NaN</td>\n",
       "      <td>4.0</td>\n",
       "      <td>NaN</td>\n",
       "    </tr>\n",
       "    <tr>\n",
       "      <th>std</th>\n",
       "      <td>NaN</td>\n",
       "      <td>NaN</td>\n",
       "      <td>NaN</td>\n",
       "      <td>NaN</td>\n",
       "      <td>NaN</td>\n",
       "      <td>NaN</td>\n",
       "      <td>NaN</td>\n",
       "      <td>NaN</td>\n",
       "      <td>NaN</td>\n",
       "      <td>NaN</td>\n",
       "      <td>...</td>\n",
       "      <td>NaN</td>\n",
       "      <td>NaN</td>\n",
       "      <td>NaN</td>\n",
       "      <td>NaN</td>\n",
       "      <td>NaN</td>\n",
       "      <td>NaN</td>\n",
       "      <td>NaN</td>\n",
       "      <td>NaN</td>\n",
       "      <td>NaN</td>\n",
       "      <td>NaN</td>\n",
       "    </tr>\n",
       "  </tbody>\n",
       "</table>\n",
       "<p>8 rows × 50 columns</p>\n",
       "</div>"
      ],
      "text/plain": [
       "                 start_day              end_day Interview_start_time   \n",
       "count                    1                    1                    1  \\\n",
       "mean   2022-09-09 00:00:00  2022-09-16 00:00:00  1960-01-01 17:53:52   \n",
       "min    2022-09-09 00:00:00  2022-09-16 00:00:00  1960-01-01 17:53:52   \n",
       "25%    2022-09-09 00:00:00  2022-09-16 00:00:00  1960-01-01 17:53:52   \n",
       "50%    2022-09-09 00:00:00  2022-09-16 00:00:00  1960-01-01 17:53:52   \n",
       "75%    2022-09-09 00:00:00  2022-09-16 00:00:00  1960-01-01 17:53:52   \n",
       "max    2022-09-09 00:00:00  2022-09-16 00:00:00  1960-01-01 17:53:52   \n",
       "std                    NaN                  NaN                  NaN   \n",
       "\n",
       "        Interview_end_time       interview_time  interviewer_id   age   b4   \n",
       "count                    1                    1             1.0   1.0  0.0  \\\n",
       "mean   1960-01-01 14:28:51  2022-09-09 00:00:00            16.0  21.0  NaN   \n",
       "min    1960-01-01 14:28:51  2022-09-09 00:00:00            16.0  21.0  NaN   \n",
       "25%    1960-01-01 14:28:51  2022-09-09 00:00:00            16.0  21.0  NaN   \n",
       "50%    1960-01-01 14:28:51  2022-09-09 00:00:00            16.0  21.0  NaN   \n",
       "75%    1960-01-01 14:28:51  2022-09-09 00:00:00            16.0  21.0  NaN   \n",
       "max    1960-01-01 14:28:51  2022-09-09 00:00:00            16.0  21.0  NaN   \n",
       "std                    NaN                  NaN             NaN   NaN  NaN   \n",
       "\n",
       "        W_CODE     RK_CODE  ...  d5_1_25   d6  d7_1  d7_2  d7_3   d8   d9   \n",
       "count      1.0         1.0  ...      0.0  1.0   1.0   1.0   1.0  1.0  1.0  \\\n",
       "mean   30704.0  30704001.0  ...      NaN  1.0   1.0   0.0   0.0  0.0  1.0   \n",
       "min    30704.0  30704001.0  ...      NaN  1.0   1.0   0.0   0.0  0.0  1.0   \n",
       "25%    30704.0  30704001.0  ...      NaN  1.0   1.0   0.0   0.0  0.0  1.0   \n",
       "50%    30704.0  30704001.0  ...      NaN  1.0   1.0   0.0   0.0  0.0  1.0   \n",
       "75%    30704.0  30704001.0  ...      NaN  1.0   1.0   0.0   0.0  0.0  1.0   \n",
       "max    30704.0  30704001.0  ...      NaN  1.0   1.0   0.0   0.0  0.0  1.0   \n",
       "std        NaN         NaN  ...      NaN  NaN   NaN   NaN   NaN  NaN  NaN   \n",
       "\n",
       "       d10  _index  flag  \n",
       "count  0.0     1.0   0.0  \n",
       "mean   NaN     4.0   NaN  \n",
       "min    NaN     4.0   NaN  \n",
       "25%    NaN     4.0   NaN  \n",
       "50%    NaN     4.0   NaN  \n",
       "75%    NaN     4.0   NaN  \n",
       "max    NaN     4.0   NaN  \n",
       "std    NaN     NaN   NaN  \n",
       "\n",
       "[8 rows x 50 columns]"
      ]
     },
     "execution_count": 12,
     "metadata": {},
     "output_type": "execute_result"
    }
   ],
   "source": [
    "analysis.describe()"
   ]
  },
  {
   "attachments": {},
   "cell_type": "markdown",
   "metadata": {},
   "source": [
    "Only one valid answer"
   ]
  },
  {
   "attachments": {},
   "cell_type": "markdown",
   "metadata": {},
   "source": [
    "Were you affected by the recent heavy rain/flood (Date?) in your area?"
   ]
  },
  {
   "cell_type": "code",
   "execution_count": 13,
   "metadata": {},
   "outputs": [
    {
     "name": "stdout",
     "output_type": "stream",
     "text": [
      "d7_1\n",
      "1.0    100.0\n",
      "Name: count, dtype: float64\n"
     ]
    }
   ],
   "source": [
    "analysis = treatment[treatment['d7_1'] != '']\n",
    "#filter out blank responses\n",
    "analysis = analysis[analysis['d7_1'] != ' ']\n",
    "#filter out NaN\n",
    "analysis = analysis[analysis['d7_1'].notna()]\n",
    "frequency = pd.Series(analysis['d7_1']).value_counts()\n",
    "percentage = (frequency / analysis['d7_1'].size) * 100\n",
    "print(percentage)"
   ]
  },
  {
   "cell_type": "code",
   "execution_count": 14,
   "metadata": {},
   "outputs": [
    {
     "data": {
      "text/html": [
       "<div>\n",
       "<style scoped>\n",
       "    .dataframe tbody tr th:only-of-type {\n",
       "        vertical-align: middle;\n",
       "    }\n",
       "\n",
       "    .dataframe tbody tr th {\n",
       "        vertical-align: top;\n",
       "    }\n",
       "\n",
       "    .dataframe thead th {\n",
       "        text-align: right;\n",
       "    }\n",
       "</style>\n",
       "<table border=\"1\" class=\"dataframe\">\n",
       "  <thead>\n",
       "    <tr style=\"text-align: right;\">\n",
       "      <th></th>\n",
       "      <th>start_day</th>\n",
       "      <th>end_day</th>\n",
       "      <th>Interview_start_time</th>\n",
       "      <th>Interview_end_time</th>\n",
       "      <th>interview_time</th>\n",
       "      <th>interviewer_id</th>\n",
       "      <th>age</th>\n",
       "      <th>b4</th>\n",
       "      <th>W_CODE</th>\n",
       "      <th>RK_CODE</th>\n",
       "      <th>...</th>\n",
       "      <th>d5_1_25</th>\n",
       "      <th>d6</th>\n",
       "      <th>d7_1</th>\n",
       "      <th>d7_2</th>\n",
       "      <th>d7_3</th>\n",
       "      <th>d8</th>\n",
       "      <th>d9</th>\n",
       "      <th>d10</th>\n",
       "      <th>_index</th>\n",
       "      <th>flag</th>\n",
       "    </tr>\n",
       "  </thead>\n",
       "  <tbody>\n",
       "    <tr>\n",
       "      <th>count</th>\n",
       "      <td>1</td>\n",
       "      <td>1</td>\n",
       "      <td>1</td>\n",
       "      <td>1</td>\n",
       "      <td>1</td>\n",
       "      <td>1.0</td>\n",
       "      <td>1.0</td>\n",
       "      <td>0.0</td>\n",
       "      <td>1.0</td>\n",
       "      <td>1.0</td>\n",
       "      <td>...</td>\n",
       "      <td>0.0</td>\n",
       "      <td>1.0</td>\n",
       "      <td>1.0</td>\n",
       "      <td>1.0</td>\n",
       "      <td>1.0</td>\n",
       "      <td>1.0</td>\n",
       "      <td>1.0</td>\n",
       "      <td>0.0</td>\n",
       "      <td>1.0</td>\n",
       "      <td>0.0</td>\n",
       "    </tr>\n",
       "    <tr>\n",
       "      <th>mean</th>\n",
       "      <td>2022-09-09 00:00:00</td>\n",
       "      <td>2022-09-16 00:00:00</td>\n",
       "      <td>1960-01-01 17:53:52</td>\n",
       "      <td>1960-01-01 14:28:51</td>\n",
       "      <td>2022-09-09 00:00:00</td>\n",
       "      <td>16.0</td>\n",
       "      <td>21.0</td>\n",
       "      <td>NaN</td>\n",
       "      <td>30704.0</td>\n",
       "      <td>30704001.0</td>\n",
       "      <td>...</td>\n",
       "      <td>NaN</td>\n",
       "      <td>1.0</td>\n",
       "      <td>1.0</td>\n",
       "      <td>0.0</td>\n",
       "      <td>0.0</td>\n",
       "      <td>0.0</td>\n",
       "      <td>1.0</td>\n",
       "      <td>NaN</td>\n",
       "      <td>4.0</td>\n",
       "      <td>NaN</td>\n",
       "    </tr>\n",
       "    <tr>\n",
       "      <th>min</th>\n",
       "      <td>2022-09-09 00:00:00</td>\n",
       "      <td>2022-09-16 00:00:00</td>\n",
       "      <td>1960-01-01 17:53:52</td>\n",
       "      <td>1960-01-01 14:28:51</td>\n",
       "      <td>2022-09-09 00:00:00</td>\n",
       "      <td>16.0</td>\n",
       "      <td>21.0</td>\n",
       "      <td>NaN</td>\n",
       "      <td>30704.0</td>\n",
       "      <td>30704001.0</td>\n",
       "      <td>...</td>\n",
       "      <td>NaN</td>\n",
       "      <td>1.0</td>\n",
       "      <td>1.0</td>\n",
       "      <td>0.0</td>\n",
       "      <td>0.0</td>\n",
       "      <td>0.0</td>\n",
       "      <td>1.0</td>\n",
       "      <td>NaN</td>\n",
       "      <td>4.0</td>\n",
       "      <td>NaN</td>\n",
       "    </tr>\n",
       "    <tr>\n",
       "      <th>25%</th>\n",
       "      <td>2022-09-09 00:00:00</td>\n",
       "      <td>2022-09-16 00:00:00</td>\n",
       "      <td>1960-01-01 17:53:52</td>\n",
       "      <td>1960-01-01 14:28:51</td>\n",
       "      <td>2022-09-09 00:00:00</td>\n",
       "      <td>16.0</td>\n",
       "      <td>21.0</td>\n",
       "      <td>NaN</td>\n",
       "      <td>30704.0</td>\n",
       "      <td>30704001.0</td>\n",
       "      <td>...</td>\n",
       "      <td>NaN</td>\n",
       "      <td>1.0</td>\n",
       "      <td>1.0</td>\n",
       "      <td>0.0</td>\n",
       "      <td>0.0</td>\n",
       "      <td>0.0</td>\n",
       "      <td>1.0</td>\n",
       "      <td>NaN</td>\n",
       "      <td>4.0</td>\n",
       "      <td>NaN</td>\n",
       "    </tr>\n",
       "    <tr>\n",
       "      <th>50%</th>\n",
       "      <td>2022-09-09 00:00:00</td>\n",
       "      <td>2022-09-16 00:00:00</td>\n",
       "      <td>1960-01-01 17:53:52</td>\n",
       "      <td>1960-01-01 14:28:51</td>\n",
       "      <td>2022-09-09 00:00:00</td>\n",
       "      <td>16.0</td>\n",
       "      <td>21.0</td>\n",
       "      <td>NaN</td>\n",
       "      <td>30704.0</td>\n",
       "      <td>30704001.0</td>\n",
       "      <td>...</td>\n",
       "      <td>NaN</td>\n",
       "      <td>1.0</td>\n",
       "      <td>1.0</td>\n",
       "      <td>0.0</td>\n",
       "      <td>0.0</td>\n",
       "      <td>0.0</td>\n",
       "      <td>1.0</td>\n",
       "      <td>NaN</td>\n",
       "      <td>4.0</td>\n",
       "      <td>NaN</td>\n",
       "    </tr>\n",
       "    <tr>\n",
       "      <th>75%</th>\n",
       "      <td>2022-09-09 00:00:00</td>\n",
       "      <td>2022-09-16 00:00:00</td>\n",
       "      <td>1960-01-01 17:53:52</td>\n",
       "      <td>1960-01-01 14:28:51</td>\n",
       "      <td>2022-09-09 00:00:00</td>\n",
       "      <td>16.0</td>\n",
       "      <td>21.0</td>\n",
       "      <td>NaN</td>\n",
       "      <td>30704.0</td>\n",
       "      <td>30704001.0</td>\n",
       "      <td>...</td>\n",
       "      <td>NaN</td>\n",
       "      <td>1.0</td>\n",
       "      <td>1.0</td>\n",
       "      <td>0.0</td>\n",
       "      <td>0.0</td>\n",
       "      <td>0.0</td>\n",
       "      <td>1.0</td>\n",
       "      <td>NaN</td>\n",
       "      <td>4.0</td>\n",
       "      <td>NaN</td>\n",
       "    </tr>\n",
       "    <tr>\n",
       "      <th>max</th>\n",
       "      <td>2022-09-09 00:00:00</td>\n",
       "      <td>2022-09-16 00:00:00</td>\n",
       "      <td>1960-01-01 17:53:52</td>\n",
       "      <td>1960-01-01 14:28:51</td>\n",
       "      <td>2022-09-09 00:00:00</td>\n",
       "      <td>16.0</td>\n",
       "      <td>21.0</td>\n",
       "      <td>NaN</td>\n",
       "      <td>30704.0</td>\n",
       "      <td>30704001.0</td>\n",
       "      <td>...</td>\n",
       "      <td>NaN</td>\n",
       "      <td>1.0</td>\n",
       "      <td>1.0</td>\n",
       "      <td>0.0</td>\n",
       "      <td>0.0</td>\n",
       "      <td>0.0</td>\n",
       "      <td>1.0</td>\n",
       "      <td>NaN</td>\n",
       "      <td>4.0</td>\n",
       "      <td>NaN</td>\n",
       "    </tr>\n",
       "    <tr>\n",
       "      <th>std</th>\n",
       "      <td>NaN</td>\n",
       "      <td>NaN</td>\n",
       "      <td>NaN</td>\n",
       "      <td>NaN</td>\n",
       "      <td>NaN</td>\n",
       "      <td>NaN</td>\n",
       "      <td>NaN</td>\n",
       "      <td>NaN</td>\n",
       "      <td>NaN</td>\n",
       "      <td>NaN</td>\n",
       "      <td>...</td>\n",
       "      <td>NaN</td>\n",
       "      <td>NaN</td>\n",
       "      <td>NaN</td>\n",
       "      <td>NaN</td>\n",
       "      <td>NaN</td>\n",
       "      <td>NaN</td>\n",
       "      <td>NaN</td>\n",
       "      <td>NaN</td>\n",
       "      <td>NaN</td>\n",
       "      <td>NaN</td>\n",
       "    </tr>\n",
       "  </tbody>\n",
       "</table>\n",
       "<p>8 rows × 50 columns</p>\n",
       "</div>"
      ],
      "text/plain": [
       "                 start_day              end_day Interview_start_time   \n",
       "count                    1                    1                    1  \\\n",
       "mean   2022-09-09 00:00:00  2022-09-16 00:00:00  1960-01-01 17:53:52   \n",
       "min    2022-09-09 00:00:00  2022-09-16 00:00:00  1960-01-01 17:53:52   \n",
       "25%    2022-09-09 00:00:00  2022-09-16 00:00:00  1960-01-01 17:53:52   \n",
       "50%    2022-09-09 00:00:00  2022-09-16 00:00:00  1960-01-01 17:53:52   \n",
       "75%    2022-09-09 00:00:00  2022-09-16 00:00:00  1960-01-01 17:53:52   \n",
       "max    2022-09-09 00:00:00  2022-09-16 00:00:00  1960-01-01 17:53:52   \n",
       "std                    NaN                  NaN                  NaN   \n",
       "\n",
       "        Interview_end_time       interview_time  interviewer_id   age   b4   \n",
       "count                    1                    1             1.0   1.0  0.0  \\\n",
       "mean   1960-01-01 14:28:51  2022-09-09 00:00:00            16.0  21.0  NaN   \n",
       "min    1960-01-01 14:28:51  2022-09-09 00:00:00            16.0  21.0  NaN   \n",
       "25%    1960-01-01 14:28:51  2022-09-09 00:00:00            16.0  21.0  NaN   \n",
       "50%    1960-01-01 14:28:51  2022-09-09 00:00:00            16.0  21.0  NaN   \n",
       "75%    1960-01-01 14:28:51  2022-09-09 00:00:00            16.0  21.0  NaN   \n",
       "max    1960-01-01 14:28:51  2022-09-09 00:00:00            16.0  21.0  NaN   \n",
       "std                    NaN                  NaN             NaN   NaN  NaN   \n",
       "\n",
       "        W_CODE     RK_CODE  ...  d5_1_25   d6  d7_1  d7_2  d7_3   d8   d9   \n",
       "count      1.0         1.0  ...      0.0  1.0   1.0   1.0   1.0  1.0  1.0  \\\n",
       "mean   30704.0  30704001.0  ...      NaN  1.0   1.0   0.0   0.0  0.0  1.0   \n",
       "min    30704.0  30704001.0  ...      NaN  1.0   1.0   0.0   0.0  0.0  1.0   \n",
       "25%    30704.0  30704001.0  ...      NaN  1.0   1.0   0.0   0.0  0.0  1.0   \n",
       "50%    30704.0  30704001.0  ...      NaN  1.0   1.0   0.0   0.0  0.0  1.0   \n",
       "75%    30704.0  30704001.0  ...      NaN  1.0   1.0   0.0   0.0  0.0  1.0   \n",
       "max    30704.0  30704001.0  ...      NaN  1.0   1.0   0.0   0.0  0.0  1.0   \n",
       "std        NaN         NaN  ...      NaN  NaN   NaN   NaN   NaN  NaN  NaN   \n",
       "\n",
       "       d10  _index  flag  \n",
       "count  0.0     1.0   0.0  \n",
       "mean   NaN     4.0   NaN  \n",
       "min    NaN     4.0   NaN  \n",
       "25%    NaN     4.0   NaN  \n",
       "50%    NaN     4.0   NaN  \n",
       "75%    NaN     4.0   NaN  \n",
       "max    NaN     4.0   NaN  \n",
       "std    NaN     NaN   NaN  \n",
       "\n",
       "[8 rows x 50 columns]"
      ]
     },
     "execution_count": 14,
     "metadata": {},
     "output_type": "execute_result"
    }
   ],
   "source": [
    "analysis.describe()"
   ]
  },
  {
   "attachments": {},
   "cell_type": "markdown",
   "metadata": {},
   "source": [
    "only one valid answer"
   ]
  },
  {
   "attachments": {},
   "cell_type": "markdown",
   "metadata": {},
   "source": [
    "Does anyone you know were affected by the (Date?) heavy rain/flood, e.g. relatives, friends etc.?"
   ]
  },
  {
   "cell_type": "code",
   "execution_count": 15,
   "metadata": {},
   "outputs": [
    {
     "name": "stdout",
     "output_type": "stream",
     "text": [
      "d7_2\n",
      "0.0    100.0\n",
      "Name: count, dtype: float64\n"
     ]
    }
   ],
   "source": [
    "analysis = treatment[treatment['d7_2'] != '']\n",
    "#filter out blank responses\n",
    "analysis = analysis[analysis['d7_2'] != ' ']\n",
    "#filter out NaN\n",
    "analysis = analysis[analysis['d7_2'].notna()]\n",
    "frequency = pd.Series(analysis['d7_2']).value_counts()\n",
    "percentage = (frequency / analysis['d7_2'].size) * 100\n",
    "print(percentage)"
   ]
  },
  {
   "attachments": {},
   "cell_type": "markdown",
   "metadata": {},
   "source": [
    "only one valid answer"
   ]
  },
  {
   "attachments": {},
   "cell_type": "markdown",
   "metadata": {},
   "source": [
    "Have you or your family suffered losses from flood/landslide/excessive rainfall in the past 3 years?"
   ]
  },
  {
   "cell_type": "code",
   "execution_count": 16,
   "metadata": {},
   "outputs": [
    {
     "name": "stdout",
     "output_type": "stream",
     "text": [
      "d8\n",
      "0.0    100.0\n",
      "Name: count, dtype: float64\n"
     ]
    }
   ],
   "source": [
    "analysis = treatment[treatment['d8'] != '']\n",
    "#filter out blank responses\n",
    "analysis = analysis[analysis['d8'] != ' ']\n",
    "#filter out NaN\n",
    "analysis = analysis[analysis['d8'].notna()]\n",
    "frequency = pd.Series(analysis['d8']).value_counts()\n",
    "percentage = (frequency / analysis['d8'].size) * 100\n",
    "print(percentage)"
   ]
  },
  {
   "cell_type": "code",
   "execution_count": 17,
   "metadata": {},
   "outputs": [
    {
     "data": {
      "text/html": [
       "<div>\n",
       "<style scoped>\n",
       "    .dataframe tbody tr th:only-of-type {\n",
       "        vertical-align: middle;\n",
       "    }\n",
       "\n",
       "    .dataframe tbody tr th {\n",
       "        vertical-align: top;\n",
       "    }\n",
       "\n",
       "    .dataframe thead th {\n",
       "        text-align: right;\n",
       "    }\n",
       "</style>\n",
       "<table border=\"1\" class=\"dataframe\">\n",
       "  <thead>\n",
       "    <tr style=\"text-align: right;\">\n",
       "      <th></th>\n",
       "      <th>start_day</th>\n",
       "      <th>end_day</th>\n",
       "      <th>Interview_start_time</th>\n",
       "      <th>Interview_end_time</th>\n",
       "      <th>interview_time</th>\n",
       "      <th>interviewer_id</th>\n",
       "      <th>age</th>\n",
       "      <th>b4</th>\n",
       "      <th>W_CODE</th>\n",
       "      <th>RK_CODE</th>\n",
       "      <th>...</th>\n",
       "      <th>d5_1_25</th>\n",
       "      <th>d6</th>\n",
       "      <th>d7_1</th>\n",
       "      <th>d7_2</th>\n",
       "      <th>d7_3</th>\n",
       "      <th>d8</th>\n",
       "      <th>d9</th>\n",
       "      <th>d10</th>\n",
       "      <th>_index</th>\n",
       "      <th>flag</th>\n",
       "    </tr>\n",
       "  </thead>\n",
       "  <tbody>\n",
       "    <tr>\n",
       "      <th>count</th>\n",
       "      <td>1</td>\n",
       "      <td>1</td>\n",
       "      <td>1</td>\n",
       "      <td>1</td>\n",
       "      <td>1</td>\n",
       "      <td>1.0</td>\n",
       "      <td>1.0</td>\n",
       "      <td>0.0</td>\n",
       "      <td>1.0</td>\n",
       "      <td>1.0</td>\n",
       "      <td>...</td>\n",
       "      <td>0.0</td>\n",
       "      <td>1.0</td>\n",
       "      <td>1.0</td>\n",
       "      <td>1.0</td>\n",
       "      <td>1.0</td>\n",
       "      <td>1.0</td>\n",
       "      <td>1.0</td>\n",
       "      <td>0.0</td>\n",
       "      <td>1.0</td>\n",
       "      <td>0.0</td>\n",
       "    </tr>\n",
       "    <tr>\n",
       "      <th>mean</th>\n",
       "      <td>2022-09-09 00:00:00</td>\n",
       "      <td>2022-09-16 00:00:00</td>\n",
       "      <td>1960-01-01 17:53:52</td>\n",
       "      <td>1960-01-01 14:28:51</td>\n",
       "      <td>2022-09-09 00:00:00</td>\n",
       "      <td>16.0</td>\n",
       "      <td>21.0</td>\n",
       "      <td>NaN</td>\n",
       "      <td>30704.0</td>\n",
       "      <td>30704001.0</td>\n",
       "      <td>...</td>\n",
       "      <td>NaN</td>\n",
       "      <td>1.0</td>\n",
       "      <td>1.0</td>\n",
       "      <td>0.0</td>\n",
       "      <td>0.0</td>\n",
       "      <td>0.0</td>\n",
       "      <td>1.0</td>\n",
       "      <td>NaN</td>\n",
       "      <td>4.0</td>\n",
       "      <td>NaN</td>\n",
       "    </tr>\n",
       "    <tr>\n",
       "      <th>min</th>\n",
       "      <td>2022-09-09 00:00:00</td>\n",
       "      <td>2022-09-16 00:00:00</td>\n",
       "      <td>1960-01-01 17:53:52</td>\n",
       "      <td>1960-01-01 14:28:51</td>\n",
       "      <td>2022-09-09 00:00:00</td>\n",
       "      <td>16.0</td>\n",
       "      <td>21.0</td>\n",
       "      <td>NaN</td>\n",
       "      <td>30704.0</td>\n",
       "      <td>30704001.0</td>\n",
       "      <td>...</td>\n",
       "      <td>NaN</td>\n",
       "      <td>1.0</td>\n",
       "      <td>1.0</td>\n",
       "      <td>0.0</td>\n",
       "      <td>0.0</td>\n",
       "      <td>0.0</td>\n",
       "      <td>1.0</td>\n",
       "      <td>NaN</td>\n",
       "      <td>4.0</td>\n",
       "      <td>NaN</td>\n",
       "    </tr>\n",
       "    <tr>\n",
       "      <th>25%</th>\n",
       "      <td>2022-09-09 00:00:00</td>\n",
       "      <td>2022-09-16 00:00:00</td>\n",
       "      <td>1960-01-01 17:53:52</td>\n",
       "      <td>1960-01-01 14:28:51</td>\n",
       "      <td>2022-09-09 00:00:00</td>\n",
       "      <td>16.0</td>\n",
       "      <td>21.0</td>\n",
       "      <td>NaN</td>\n",
       "      <td>30704.0</td>\n",
       "      <td>30704001.0</td>\n",
       "      <td>...</td>\n",
       "      <td>NaN</td>\n",
       "      <td>1.0</td>\n",
       "      <td>1.0</td>\n",
       "      <td>0.0</td>\n",
       "      <td>0.0</td>\n",
       "      <td>0.0</td>\n",
       "      <td>1.0</td>\n",
       "      <td>NaN</td>\n",
       "      <td>4.0</td>\n",
       "      <td>NaN</td>\n",
       "    </tr>\n",
       "    <tr>\n",
       "      <th>50%</th>\n",
       "      <td>2022-09-09 00:00:00</td>\n",
       "      <td>2022-09-16 00:00:00</td>\n",
       "      <td>1960-01-01 17:53:52</td>\n",
       "      <td>1960-01-01 14:28:51</td>\n",
       "      <td>2022-09-09 00:00:00</td>\n",
       "      <td>16.0</td>\n",
       "      <td>21.0</td>\n",
       "      <td>NaN</td>\n",
       "      <td>30704.0</td>\n",
       "      <td>30704001.0</td>\n",
       "      <td>...</td>\n",
       "      <td>NaN</td>\n",
       "      <td>1.0</td>\n",
       "      <td>1.0</td>\n",
       "      <td>0.0</td>\n",
       "      <td>0.0</td>\n",
       "      <td>0.0</td>\n",
       "      <td>1.0</td>\n",
       "      <td>NaN</td>\n",
       "      <td>4.0</td>\n",
       "      <td>NaN</td>\n",
       "    </tr>\n",
       "    <tr>\n",
       "      <th>75%</th>\n",
       "      <td>2022-09-09 00:00:00</td>\n",
       "      <td>2022-09-16 00:00:00</td>\n",
       "      <td>1960-01-01 17:53:52</td>\n",
       "      <td>1960-01-01 14:28:51</td>\n",
       "      <td>2022-09-09 00:00:00</td>\n",
       "      <td>16.0</td>\n",
       "      <td>21.0</td>\n",
       "      <td>NaN</td>\n",
       "      <td>30704.0</td>\n",
       "      <td>30704001.0</td>\n",
       "      <td>...</td>\n",
       "      <td>NaN</td>\n",
       "      <td>1.0</td>\n",
       "      <td>1.0</td>\n",
       "      <td>0.0</td>\n",
       "      <td>0.0</td>\n",
       "      <td>0.0</td>\n",
       "      <td>1.0</td>\n",
       "      <td>NaN</td>\n",
       "      <td>4.0</td>\n",
       "      <td>NaN</td>\n",
       "    </tr>\n",
       "    <tr>\n",
       "      <th>max</th>\n",
       "      <td>2022-09-09 00:00:00</td>\n",
       "      <td>2022-09-16 00:00:00</td>\n",
       "      <td>1960-01-01 17:53:52</td>\n",
       "      <td>1960-01-01 14:28:51</td>\n",
       "      <td>2022-09-09 00:00:00</td>\n",
       "      <td>16.0</td>\n",
       "      <td>21.0</td>\n",
       "      <td>NaN</td>\n",
       "      <td>30704.0</td>\n",
       "      <td>30704001.0</td>\n",
       "      <td>...</td>\n",
       "      <td>NaN</td>\n",
       "      <td>1.0</td>\n",
       "      <td>1.0</td>\n",
       "      <td>0.0</td>\n",
       "      <td>0.0</td>\n",
       "      <td>0.0</td>\n",
       "      <td>1.0</td>\n",
       "      <td>NaN</td>\n",
       "      <td>4.0</td>\n",
       "      <td>NaN</td>\n",
       "    </tr>\n",
       "    <tr>\n",
       "      <th>std</th>\n",
       "      <td>NaN</td>\n",
       "      <td>NaN</td>\n",
       "      <td>NaN</td>\n",
       "      <td>NaN</td>\n",
       "      <td>NaN</td>\n",
       "      <td>NaN</td>\n",
       "      <td>NaN</td>\n",
       "      <td>NaN</td>\n",
       "      <td>NaN</td>\n",
       "      <td>NaN</td>\n",
       "      <td>...</td>\n",
       "      <td>NaN</td>\n",
       "      <td>NaN</td>\n",
       "      <td>NaN</td>\n",
       "      <td>NaN</td>\n",
       "      <td>NaN</td>\n",
       "      <td>NaN</td>\n",
       "      <td>NaN</td>\n",
       "      <td>NaN</td>\n",
       "      <td>NaN</td>\n",
       "      <td>NaN</td>\n",
       "    </tr>\n",
       "  </tbody>\n",
       "</table>\n",
       "<p>8 rows × 50 columns</p>\n",
       "</div>"
      ],
      "text/plain": [
       "                 start_day              end_day Interview_start_time   \n",
       "count                    1                    1                    1  \\\n",
       "mean   2022-09-09 00:00:00  2022-09-16 00:00:00  1960-01-01 17:53:52   \n",
       "min    2022-09-09 00:00:00  2022-09-16 00:00:00  1960-01-01 17:53:52   \n",
       "25%    2022-09-09 00:00:00  2022-09-16 00:00:00  1960-01-01 17:53:52   \n",
       "50%    2022-09-09 00:00:00  2022-09-16 00:00:00  1960-01-01 17:53:52   \n",
       "75%    2022-09-09 00:00:00  2022-09-16 00:00:00  1960-01-01 17:53:52   \n",
       "max    2022-09-09 00:00:00  2022-09-16 00:00:00  1960-01-01 17:53:52   \n",
       "std                    NaN                  NaN                  NaN   \n",
       "\n",
       "        Interview_end_time       interview_time  interviewer_id   age   b4   \n",
       "count                    1                    1             1.0   1.0  0.0  \\\n",
       "mean   1960-01-01 14:28:51  2022-09-09 00:00:00            16.0  21.0  NaN   \n",
       "min    1960-01-01 14:28:51  2022-09-09 00:00:00            16.0  21.0  NaN   \n",
       "25%    1960-01-01 14:28:51  2022-09-09 00:00:00            16.0  21.0  NaN   \n",
       "50%    1960-01-01 14:28:51  2022-09-09 00:00:00            16.0  21.0  NaN   \n",
       "75%    1960-01-01 14:28:51  2022-09-09 00:00:00            16.0  21.0  NaN   \n",
       "max    1960-01-01 14:28:51  2022-09-09 00:00:00            16.0  21.0  NaN   \n",
       "std                    NaN                  NaN             NaN   NaN  NaN   \n",
       "\n",
       "        W_CODE     RK_CODE  ...  d5_1_25   d6  d7_1  d7_2  d7_3   d8   d9   \n",
       "count      1.0         1.0  ...      0.0  1.0   1.0   1.0   1.0  1.0  1.0  \\\n",
       "mean   30704.0  30704001.0  ...      NaN  1.0   1.0   0.0   0.0  0.0  1.0   \n",
       "min    30704.0  30704001.0  ...      NaN  1.0   1.0   0.0   0.0  0.0  1.0   \n",
       "25%    30704.0  30704001.0  ...      NaN  1.0   1.0   0.0   0.0  0.0  1.0   \n",
       "50%    30704.0  30704001.0  ...      NaN  1.0   1.0   0.0   0.0  0.0  1.0   \n",
       "75%    30704.0  30704001.0  ...      NaN  1.0   1.0   0.0   0.0  0.0  1.0   \n",
       "max    30704.0  30704001.0  ...      NaN  1.0   1.0   0.0   0.0  0.0  1.0   \n",
       "std        NaN         NaN  ...      NaN  NaN   NaN   NaN   NaN  NaN  NaN   \n",
       "\n",
       "       d10  _index  flag  \n",
       "count  0.0     1.0   0.0  \n",
       "mean   NaN     4.0   NaN  \n",
       "min    NaN     4.0   NaN  \n",
       "25%    NaN     4.0   NaN  \n",
       "50%    NaN     4.0   NaN  \n",
       "75%    NaN     4.0   NaN  \n",
       "max    NaN     4.0   NaN  \n",
       "std    NaN     NaN   NaN  \n",
       "\n",
       "[8 rows x 50 columns]"
      ]
     },
     "execution_count": 17,
     "metadata": {},
     "output_type": "execute_result"
    }
   ],
   "source": [
    "analysis.describe()"
   ]
  },
  {
   "attachments": {},
   "cell_type": "markdown",
   "metadata": {},
   "source": [
    "Would you be willing to receive such alerts through SMS in the future (only message, no surveys)?"
   ]
  },
  {
   "cell_type": "code",
   "execution_count": 18,
   "metadata": {},
   "outputs": [
    {
     "name": "stdout",
     "output_type": "stream",
     "text": [
      "d9\n",
      "1.0    100.0\n",
      "Name: count, dtype: float64\n"
     ]
    }
   ],
   "source": [
    "analysis = treatment[treatment['d9'] != '']\n",
    "#filter out blank responses\n",
    "analysis = analysis[analysis['d9'] != ' ']\n",
    "#filter out NaN\n",
    "analysis = analysis[analysis['d9'].notna()]\n",
    "frequency = pd.Series(analysis['d9']).value_counts()\n",
    "percentage = (frequency / analysis['d9'].size) * 100\n",
    "print(percentage)"
   ]
  },
  {
   "cell_type": "code",
   "execution_count": 19,
   "metadata": {},
   "outputs": [
    {
     "data": {
      "text/html": [
       "<div>\n",
       "<style scoped>\n",
       "    .dataframe tbody tr th:only-of-type {\n",
       "        vertical-align: middle;\n",
       "    }\n",
       "\n",
       "    .dataframe tbody tr th {\n",
       "        vertical-align: top;\n",
       "    }\n",
       "\n",
       "    .dataframe thead th {\n",
       "        text-align: right;\n",
       "    }\n",
       "</style>\n",
       "<table border=\"1\" class=\"dataframe\">\n",
       "  <thead>\n",
       "    <tr style=\"text-align: right;\">\n",
       "      <th></th>\n",
       "      <th>start_day</th>\n",
       "      <th>end_day</th>\n",
       "      <th>Interview_start_time</th>\n",
       "      <th>Interview_end_time</th>\n",
       "      <th>interview_time</th>\n",
       "      <th>interviewer_id</th>\n",
       "      <th>age</th>\n",
       "      <th>b4</th>\n",
       "      <th>W_CODE</th>\n",
       "      <th>RK_CODE</th>\n",
       "      <th>...</th>\n",
       "      <th>d5_1_25</th>\n",
       "      <th>d6</th>\n",
       "      <th>d7_1</th>\n",
       "      <th>d7_2</th>\n",
       "      <th>d7_3</th>\n",
       "      <th>d8</th>\n",
       "      <th>d9</th>\n",
       "      <th>d10</th>\n",
       "      <th>_index</th>\n",
       "      <th>flag</th>\n",
       "    </tr>\n",
       "  </thead>\n",
       "  <tbody>\n",
       "    <tr>\n",
       "      <th>count</th>\n",
       "      <td>1</td>\n",
       "      <td>1</td>\n",
       "      <td>1</td>\n",
       "      <td>1</td>\n",
       "      <td>1</td>\n",
       "      <td>1.0</td>\n",
       "      <td>1.0</td>\n",
       "      <td>0.0</td>\n",
       "      <td>1.0</td>\n",
       "      <td>1.0</td>\n",
       "      <td>...</td>\n",
       "      <td>0.0</td>\n",
       "      <td>1.0</td>\n",
       "      <td>1.0</td>\n",
       "      <td>1.0</td>\n",
       "      <td>1.0</td>\n",
       "      <td>1.0</td>\n",
       "      <td>1.0</td>\n",
       "      <td>0.0</td>\n",
       "      <td>1.0</td>\n",
       "      <td>0.0</td>\n",
       "    </tr>\n",
       "    <tr>\n",
       "      <th>mean</th>\n",
       "      <td>2022-09-09 00:00:00</td>\n",
       "      <td>2022-09-16 00:00:00</td>\n",
       "      <td>1960-01-01 17:53:52</td>\n",
       "      <td>1960-01-01 14:28:51</td>\n",
       "      <td>2022-09-09 00:00:00</td>\n",
       "      <td>16.0</td>\n",
       "      <td>21.0</td>\n",
       "      <td>NaN</td>\n",
       "      <td>30704.0</td>\n",
       "      <td>30704001.0</td>\n",
       "      <td>...</td>\n",
       "      <td>NaN</td>\n",
       "      <td>1.0</td>\n",
       "      <td>1.0</td>\n",
       "      <td>0.0</td>\n",
       "      <td>0.0</td>\n",
       "      <td>0.0</td>\n",
       "      <td>1.0</td>\n",
       "      <td>NaN</td>\n",
       "      <td>4.0</td>\n",
       "      <td>NaN</td>\n",
       "    </tr>\n",
       "    <tr>\n",
       "      <th>min</th>\n",
       "      <td>2022-09-09 00:00:00</td>\n",
       "      <td>2022-09-16 00:00:00</td>\n",
       "      <td>1960-01-01 17:53:52</td>\n",
       "      <td>1960-01-01 14:28:51</td>\n",
       "      <td>2022-09-09 00:00:00</td>\n",
       "      <td>16.0</td>\n",
       "      <td>21.0</td>\n",
       "      <td>NaN</td>\n",
       "      <td>30704.0</td>\n",
       "      <td>30704001.0</td>\n",
       "      <td>...</td>\n",
       "      <td>NaN</td>\n",
       "      <td>1.0</td>\n",
       "      <td>1.0</td>\n",
       "      <td>0.0</td>\n",
       "      <td>0.0</td>\n",
       "      <td>0.0</td>\n",
       "      <td>1.0</td>\n",
       "      <td>NaN</td>\n",
       "      <td>4.0</td>\n",
       "      <td>NaN</td>\n",
       "    </tr>\n",
       "    <tr>\n",
       "      <th>25%</th>\n",
       "      <td>2022-09-09 00:00:00</td>\n",
       "      <td>2022-09-16 00:00:00</td>\n",
       "      <td>1960-01-01 17:53:52</td>\n",
       "      <td>1960-01-01 14:28:51</td>\n",
       "      <td>2022-09-09 00:00:00</td>\n",
       "      <td>16.0</td>\n",
       "      <td>21.0</td>\n",
       "      <td>NaN</td>\n",
       "      <td>30704.0</td>\n",
       "      <td>30704001.0</td>\n",
       "      <td>...</td>\n",
       "      <td>NaN</td>\n",
       "      <td>1.0</td>\n",
       "      <td>1.0</td>\n",
       "      <td>0.0</td>\n",
       "      <td>0.0</td>\n",
       "      <td>0.0</td>\n",
       "      <td>1.0</td>\n",
       "      <td>NaN</td>\n",
       "      <td>4.0</td>\n",
       "      <td>NaN</td>\n",
       "    </tr>\n",
       "    <tr>\n",
       "      <th>50%</th>\n",
       "      <td>2022-09-09 00:00:00</td>\n",
       "      <td>2022-09-16 00:00:00</td>\n",
       "      <td>1960-01-01 17:53:52</td>\n",
       "      <td>1960-01-01 14:28:51</td>\n",
       "      <td>2022-09-09 00:00:00</td>\n",
       "      <td>16.0</td>\n",
       "      <td>21.0</td>\n",
       "      <td>NaN</td>\n",
       "      <td>30704.0</td>\n",
       "      <td>30704001.0</td>\n",
       "      <td>...</td>\n",
       "      <td>NaN</td>\n",
       "      <td>1.0</td>\n",
       "      <td>1.0</td>\n",
       "      <td>0.0</td>\n",
       "      <td>0.0</td>\n",
       "      <td>0.0</td>\n",
       "      <td>1.0</td>\n",
       "      <td>NaN</td>\n",
       "      <td>4.0</td>\n",
       "      <td>NaN</td>\n",
       "    </tr>\n",
       "    <tr>\n",
       "      <th>75%</th>\n",
       "      <td>2022-09-09 00:00:00</td>\n",
       "      <td>2022-09-16 00:00:00</td>\n",
       "      <td>1960-01-01 17:53:52</td>\n",
       "      <td>1960-01-01 14:28:51</td>\n",
       "      <td>2022-09-09 00:00:00</td>\n",
       "      <td>16.0</td>\n",
       "      <td>21.0</td>\n",
       "      <td>NaN</td>\n",
       "      <td>30704.0</td>\n",
       "      <td>30704001.0</td>\n",
       "      <td>...</td>\n",
       "      <td>NaN</td>\n",
       "      <td>1.0</td>\n",
       "      <td>1.0</td>\n",
       "      <td>0.0</td>\n",
       "      <td>0.0</td>\n",
       "      <td>0.0</td>\n",
       "      <td>1.0</td>\n",
       "      <td>NaN</td>\n",
       "      <td>4.0</td>\n",
       "      <td>NaN</td>\n",
       "    </tr>\n",
       "    <tr>\n",
       "      <th>max</th>\n",
       "      <td>2022-09-09 00:00:00</td>\n",
       "      <td>2022-09-16 00:00:00</td>\n",
       "      <td>1960-01-01 17:53:52</td>\n",
       "      <td>1960-01-01 14:28:51</td>\n",
       "      <td>2022-09-09 00:00:00</td>\n",
       "      <td>16.0</td>\n",
       "      <td>21.0</td>\n",
       "      <td>NaN</td>\n",
       "      <td>30704.0</td>\n",
       "      <td>30704001.0</td>\n",
       "      <td>...</td>\n",
       "      <td>NaN</td>\n",
       "      <td>1.0</td>\n",
       "      <td>1.0</td>\n",
       "      <td>0.0</td>\n",
       "      <td>0.0</td>\n",
       "      <td>0.0</td>\n",
       "      <td>1.0</td>\n",
       "      <td>NaN</td>\n",
       "      <td>4.0</td>\n",
       "      <td>NaN</td>\n",
       "    </tr>\n",
       "    <tr>\n",
       "      <th>std</th>\n",
       "      <td>NaN</td>\n",
       "      <td>NaN</td>\n",
       "      <td>NaN</td>\n",
       "      <td>NaN</td>\n",
       "      <td>NaN</td>\n",
       "      <td>NaN</td>\n",
       "      <td>NaN</td>\n",
       "      <td>NaN</td>\n",
       "      <td>NaN</td>\n",
       "      <td>NaN</td>\n",
       "      <td>...</td>\n",
       "      <td>NaN</td>\n",
       "      <td>NaN</td>\n",
       "      <td>NaN</td>\n",
       "      <td>NaN</td>\n",
       "      <td>NaN</td>\n",
       "      <td>NaN</td>\n",
       "      <td>NaN</td>\n",
       "      <td>NaN</td>\n",
       "      <td>NaN</td>\n",
       "      <td>NaN</td>\n",
       "    </tr>\n",
       "  </tbody>\n",
       "</table>\n",
       "<p>8 rows × 50 columns</p>\n",
       "</div>"
      ],
      "text/plain": [
       "                 start_day              end_day Interview_start_time   \n",
       "count                    1                    1                    1  \\\n",
       "mean   2022-09-09 00:00:00  2022-09-16 00:00:00  1960-01-01 17:53:52   \n",
       "min    2022-09-09 00:00:00  2022-09-16 00:00:00  1960-01-01 17:53:52   \n",
       "25%    2022-09-09 00:00:00  2022-09-16 00:00:00  1960-01-01 17:53:52   \n",
       "50%    2022-09-09 00:00:00  2022-09-16 00:00:00  1960-01-01 17:53:52   \n",
       "75%    2022-09-09 00:00:00  2022-09-16 00:00:00  1960-01-01 17:53:52   \n",
       "max    2022-09-09 00:00:00  2022-09-16 00:00:00  1960-01-01 17:53:52   \n",
       "std                    NaN                  NaN                  NaN   \n",
       "\n",
       "        Interview_end_time       interview_time  interviewer_id   age   b4   \n",
       "count                    1                    1             1.0   1.0  0.0  \\\n",
       "mean   1960-01-01 14:28:51  2022-09-09 00:00:00            16.0  21.0  NaN   \n",
       "min    1960-01-01 14:28:51  2022-09-09 00:00:00            16.0  21.0  NaN   \n",
       "25%    1960-01-01 14:28:51  2022-09-09 00:00:00            16.0  21.0  NaN   \n",
       "50%    1960-01-01 14:28:51  2022-09-09 00:00:00            16.0  21.0  NaN   \n",
       "75%    1960-01-01 14:28:51  2022-09-09 00:00:00            16.0  21.0  NaN   \n",
       "max    1960-01-01 14:28:51  2022-09-09 00:00:00            16.0  21.0  NaN   \n",
       "std                    NaN                  NaN             NaN   NaN  NaN   \n",
       "\n",
       "        W_CODE     RK_CODE  ...  d5_1_25   d6  d7_1  d7_2  d7_3   d8   d9   \n",
       "count      1.0         1.0  ...      0.0  1.0   1.0   1.0   1.0  1.0  1.0  \\\n",
       "mean   30704.0  30704001.0  ...      NaN  1.0   1.0   0.0   0.0  0.0  1.0   \n",
       "min    30704.0  30704001.0  ...      NaN  1.0   1.0   0.0   0.0  0.0  1.0   \n",
       "25%    30704.0  30704001.0  ...      NaN  1.0   1.0   0.0   0.0  0.0  1.0   \n",
       "50%    30704.0  30704001.0  ...      NaN  1.0   1.0   0.0   0.0  0.0  1.0   \n",
       "75%    30704.0  30704001.0  ...      NaN  1.0   1.0   0.0   0.0  0.0  1.0   \n",
       "max    30704.0  30704001.0  ...      NaN  1.0   1.0   0.0   0.0  0.0  1.0   \n",
       "std        NaN         NaN  ...      NaN  NaN   NaN   NaN   NaN  NaN  NaN   \n",
       "\n",
       "       d10  _index  flag  \n",
       "count  0.0     1.0   0.0  \n",
       "mean   NaN     4.0   NaN  \n",
       "min    NaN     4.0   NaN  \n",
       "25%    NaN     4.0   NaN  \n",
       "50%    NaN     4.0   NaN  \n",
       "75%    NaN     4.0   NaN  \n",
       "max    NaN     4.0   NaN  \n",
       "std    NaN     NaN   NaN  \n",
       "\n",
       "[8 rows x 50 columns]"
      ]
     },
     "execution_count": 19,
     "metadata": {},
     "output_type": "execute_result"
    }
   ],
   "source": [
    "analysis.describe()"
   ]
  }
 ],
 "metadata": {
  "kernelspec": {
   "display_name": ".venv",
   "language": "python",
   "name": "python3"
  },
  "language_info": {
   "codemirror_mode": {
    "name": "ipython",
    "version": 3
   },
   "file_extension": ".py",
   "mimetype": "text/x-python",
   "name": "python",
   "nbconvert_exporter": "python",
   "pygments_lexer": "ipython3",
   "version": "3.11.3"
  },
  "orig_nbformat": 4
 },
 "nbformat": 4,
 "nbformat_minor": 2
}
